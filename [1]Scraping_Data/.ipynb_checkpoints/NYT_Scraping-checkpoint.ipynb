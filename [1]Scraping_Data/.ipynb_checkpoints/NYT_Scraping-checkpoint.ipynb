{
 "cells": [
  {
   "cell_type": "code",
   "execution_count": 1,
   "metadata": {
    "collapsed": true
   },
   "outputs": [],
   "source": [
    "import requests, pymongo, json, time\n",
    "from datetime import datetime\n",
    "from dateutil.relativedelta import relativedelta\n",
    "from bs4 import BeautifulSoup"
   ]
  },
  {
   "cell_type": "markdown",
   "metadata": {},
   "source": [
    "![](http://www.listchallenges.com/f/lists/d7aacdae-74bd-42ff-b397-b73905b5867b.jpg)"
   ]
  },
  {
   "cell_type": "markdown",
   "metadata": {},
   "source": [
    "## Introduction\n",
    "\n",
    "Our goal is to scape as many New York Times articles from their api as possible. The web scraper below is desgined to open a mongo client, where all the downloaded articles will be stored and make api calls. This web scraper will run indefinately until the user termintes the code's calls. "
   ]
  },
  {
   "cell_type": "markdown",
   "metadata": {},
   "source": [
    "## New York Times Web Scraper"
   ]
  },
  {
   "cell_type": "code",
   "execution_count": 2,
   "metadata": {
    "collapsed": true
   },
   "outputs": [],
   "source": [
    "client = pymongo.MongoClient()"
   ]
  },
  {
   "cell_type": "code",
   "execution_count": 3,
   "metadata": {
    "collapsed": true
   },
   "outputs": [],
   "source": [
    "def init_mongo_client():\n",
    "    # Initiate Mongo client\n",
    "    client = pymongo.MongoClient()\n",
    "\n",
    "    # Access database created for these articles\n",
    "    db = client.nyt_apr_4\n",
    "    \n",
    "    # Access collection created for these articles\n",
    "    coll = db.NYT_Articles\n",
    "\n",
    "    # Access articles collection in db and return collection pointer.\n",
    "    return db.articles\n",
    "\n",
    "\n",
    "def call_api(url, payload, p=0):\n",
    "    # Add the 'page' parameter to the payload.\n",
    "    payload['page'] = p\n",
    "\n",
    "    # Get the requested url. Error handling for bad requests should be done in\n",
    "    # the calling function.\n",
    "    return requests.get(url, params=payload)\n",
    "\n",
    "\n",
    "def get_response(r):\n",
    "    # Use json.loads to read the response text\n",
    "    raw = json.loads(r.text)\n",
    "\n",
    "    # Return the meta (hits, etc.) and docs (containing urls'n'stuff) back\n",
    "    return raw['response']['meta'], raw['response']['docs']\n",
    "\n",
    "\n",
    "def get_soup(url):\n",
    "    # Header to be passed in to NYT when scraping article text.\n",
    "    agent  = 'DataWrangling/1.1 (http://zipfianacademy.com; '\n",
    "    agent += 'class@zipfianacademy.com)'\n",
    "    headers = {'user_agent': agent}\n",
    "\n",
    "    # Wrap in a try-except to prevent a maxTry connection error from erroring\n",
    "    # out the program. Return None if there are any issues.\n",
    "    try:\n",
    "        r = requests.get(url, headers=headers)\n",
    "    except:\n",
    "        return None\n",
    "\n",
    "    # Just in case there was a normal error returned. Pass back None.\n",
    "    if r.status_code != 200: return None\n",
    "\n",
    "    # Otherwise return a soupified object containing the url text encoded in\n",
    "    # utf-8. Will toss back errors on some pages without the encoding in place.\n",
    "    return BeautifulSoup(r.text.encode('utf-8'))\n",
    "\n",
    "\n",
    "def get_body_text(docs):\n",
    "\n",
    "    # Grab the url from each document, if it exists, then scrape each url for\n",
    "    # its body text. If we get any errors along the way, continue on to the\n",
    "    # next document / url to be scraped.\n",
    "    result = []\n",
    "    for d in docs:\n",
    "\n",
    "        # Make a copy of the doc's dictionary\n",
    "        doc = d.copy()\n",
    "\n",
    "        # If there's no url (not sure why this happens sometimes) then ditch it\n",
    "        if not doc['web_url']:\n",
    "            continue\n",
    "\n",
    "        # Scrape the doc's url, return a soup object with the url's text.\n",
    "        soup = get_soup(doc['web_url'])\n",
    "        if not soup:\n",
    "            continue\n",
    "\n",
    "        # Find all of the paragraphs with the correct class.\n",
    "        # This class tag is specific to NYT articles.\n",
    "        body = soup.find_all('p', class_= \"story-body-text story-content\")\n",
    "        if not body:\n",
    "            continue\n",
    "\n",
    "        # Join the resulting body paragraphs' text (returned in a list).\n",
    "        doc['body'] = '\\n'.join([x.get_text() for x in body])\n",
    "\n",
    "        print (doc['web_url'])\n",
    "        result.append(doc)\n",
    "\n",
    "    return result\n",
    "\n",
    "\n",
    "def remove_previously_scraped(coll, docs):\n",
    "    # Check to see if the mongo collection already contains the docs returned\n",
    "    # from NYT. Return back a list of the ones that aren't in the collection to\n",
    "    # be scraped.\n",
    "    new_docs = []\n",
    "    for doc in docs:\n",
    "        # Check fo the document id in mongo. If it finds none, append to\n",
    "        # new_docs\n",
    "        cursor = articles.find({'_id': doc['_id']}).limit(1)\n",
    "        if not cursor.count() > 0:\n",
    "            new_docs.append(doc)\n",
    "\n",
    "    if new_docs == []:\n",
    "        return None\n",
    "\n",
    "    return new_docs\n",
    "\n",
    "\n",
    "def get_end_date(dt):\n",
    "    # String-ify the datetime object to YYYMMDD, which the NYT likes.\n",
    "    yr   = str(dt.year)\n",
    "    mon = '0' * (2 - len(str(dt.month))) + str(dt.month)\n",
    "    day = '0' * (2 - len(str(dt.day))) + str(dt.day)\n",
    "    return yr + mon + day\n",
    "\n",
    "\n",
    "def scrape_articles(coll, last_date):\n",
    "    page = 0\n",
    "    while page <= 199:\n",
    "        print ('Page:', page)\n",
    "\n",
    "        # Request all of the newest articles matching the search term\n",
    "        payload  = {'sort': 'newest',\n",
    "                    'end_date': get_end_date(last_date),\n",
    "                    'api-key': API_KEY\n",
    "                   }\n",
    "\n",
    "        # Call the API with BaseURL + params and page\n",
    "        r = call_api(NYT_URL, payload, page)\n",
    "\n",
    "        # Increment the page before we encounter any potential errors\n",
    "        page += 1\n",
    "\n",
    "        # Check to see if the metadata didn't come back. USUALLY happens if\n",
    "        # page > 100. When it does, reset the whole thing, roll the date back\n",
    "        # one day, sleep for a couple seconds, then keep going.\n",
    "        if r.status_code != 200:\n",
    "            page = 0\n",
    "            last_date += relativedelta(days=-1)\n",
    "            print ('End Date:', get_end_date(last_date))\n",
    "            print (r.status_code )\n",
    "            time.sleep(2)\n",
    "            continue\n",
    "            \n",
    "        # Get the meta data & documents from the request\n",
    "        meta, docs = get_response(r)\n",
    "\n",
    "        # Check if docs are already in the database\n",
    "        new_docs = remove_previously_scraped(coll, docs)\n",
    "        if not new_docs: continue\n",
    "\n",
    "        # Grab only the docs that have these tags\n",
    "        docs_with_body = get_body_text(new_docs)\n",
    "\n",
    "        for doc in docs_with_body:\n",
    "            try:\n",
    "                # Insert each doc into Mongo\n",
    "                coll.insert_one(doc)\n",
    "            except:\n",
    "                # If there's any error writing it in the db, just move along.\n",
    "                continue"
   ]
  },
  {
   "cell_type": "code",
   "execution_count": 4,
   "metadata": {
    "collapsed": true
   },
   "outputs": [],
   "source": [
    "# Url for NYT dev api\n",
    "NYT_URL = 'http://api.nytimes.com/svc/search/v2/articlesearch.json'\n",
    "api_key_path = \"/home/dk/Downloads/3-1 BITS/Acads/Resources/Information Retrieval/Assignment/our_code/Scraping_Data/NYT_API_Key\""
   ]
  },
  {
   "cell_type": "code",
   "execution_count": 5,
   "metadata": {
    "collapsed": true
   },
   "outputs": [],
   "source": [
    "with open(api_key_path, 'r') as handle:\n",
    "    API_KEY = handle.read()"
   ]
  },
  {
   "cell_type": "code",
   "execution_count": 6,
   "metadata": {
    "collapsed": true
   },
   "outputs": [],
   "source": [
    "# Initialize db & collection\n",
    "articles = init_mongo_client()"
   ]
  },
  {
   "cell_type": "code",
   "execution_count": 7,
   "metadata": {
    "collapsed": true
   },
   "outputs": [],
   "source": [
    "# Set the initial end date (scraper starts at this date and moves back in\n",
    "# time sequentially)\n",
    "last_date = datetime.now() + relativedelta(days=-2)"
   ]
  },
  {
   "cell_type": "code",
   "execution_count": 8,
   "metadata": {},
   "outputs": [
    {
     "name": "stdout",
     "output_type": "stream",
     "text": [
      "('Page:', 0)\n",
      "('End Date:', '20171103')\n",
      "403\n",
      "('Page:', 0)\n",
      "('End Date:', '20171102')\n",
      "403\n",
      "('Page:', 0)\n",
      "('End Date:', '20171101')\n",
      "403\n",
      "('Page:', 0)\n",
      "('End Date:', '20171031')\n",
      "403\n",
      "('Page:', 0)\n",
      "('End Date:', '20171030')\n",
      "403\n",
      "('Page:', 0)\n",
      "('End Date:', '20171029')\n",
      "403\n",
      "('Page:', 0)\n",
      "('End Date:', '20171028')\n",
      "403\n",
      "('Page:', 0)\n",
      "('End Date:', '20171027')\n",
      "403\n",
      "('Page:', 0)\n",
      "('End Date:', '20171026')\n",
      "403\n",
      "('Page:', 0)\n",
      "('End Date:', '20171025')\n",
      "403\n",
      "('Page:', 0)\n",
      "('End Date:', '20171024')\n",
      "403\n",
      "('Page:', 0)\n",
      "('End Date:', '20171023')\n",
      "403\n",
      "('Page:', 0)\n",
      "('End Date:', '20171022')\n",
      "403\n",
      "('Page:', 0)\n",
      "('End Date:', '20171021')\n",
      "403\n",
      "('Page:', 0)\n",
      "('End Date:', '20171020')\n",
      "403\n",
      "('Page:', 0)\n",
      "('End Date:', '20171019')\n",
      "403\n"
     ]
    },
    {
     "ename": "KeyboardInterrupt",
     "evalue": "",
     "output_type": "error",
     "traceback": [
      "\u001b[0;31m---------------------------------------------------------------------------\u001b[0m",
      "\u001b[0;31mKeyboardInterrupt\u001b[0m                         Traceback (most recent call last)",
      "\u001b[0;32m<ipython-input-8-59b628dcd5d4>\u001b[0m in \u001b[0;36m<module>\u001b[0;34m()\u001b[0m\n\u001b[1;32m      1\u001b[0m \u001b[0;31m# Pass the database collection and initial end date into main function\u001b[0m\u001b[0;34m\u001b[0m\u001b[0;34m\u001b[0m\u001b[0m\n\u001b[0;32m----> 2\u001b[0;31m \u001b[0mscrape_articles\u001b[0m\u001b[0;34m(\u001b[0m\u001b[0marticles\u001b[0m\u001b[0;34m,\u001b[0m \u001b[0mlast_date\u001b[0m\u001b[0;34m)\u001b[0m\u001b[0;34m\u001b[0m\u001b[0m\n\u001b[0m",
      "\u001b[0;32m<ipython-input-3-7d787328dd47>\u001b[0m in \u001b[0;36mscrape_articles\u001b[0;34m(coll, last_date)\u001b[0m\n\u001b[1;32m    137\u001b[0m             \u001b[0;32mprint\u001b[0m \u001b[0;34m(\u001b[0m\u001b[0;34m'End Date:'\u001b[0m\u001b[0;34m,\u001b[0m \u001b[0mget_end_date\u001b[0m\u001b[0;34m(\u001b[0m\u001b[0mlast_date\u001b[0m\u001b[0;34m)\u001b[0m\u001b[0;34m)\u001b[0m\u001b[0;34m\u001b[0m\u001b[0m\n\u001b[1;32m    138\u001b[0m             \u001b[0;32mprint\u001b[0m \u001b[0;34m(\u001b[0m\u001b[0mr\u001b[0m\u001b[0;34m.\u001b[0m\u001b[0mstatus_code\u001b[0m \u001b[0;34m)\u001b[0m\u001b[0;34m\u001b[0m\u001b[0m\n\u001b[0;32m--> 139\u001b[0;31m             \u001b[0mtime\u001b[0m\u001b[0;34m.\u001b[0m\u001b[0msleep\u001b[0m\u001b[0;34m(\u001b[0m\u001b[0;36m2\u001b[0m\u001b[0;34m)\u001b[0m\u001b[0;34m\u001b[0m\u001b[0m\n\u001b[0m\u001b[1;32m    140\u001b[0m             \u001b[0;32mcontinue\u001b[0m\u001b[0;34m\u001b[0m\u001b[0m\n\u001b[1;32m    141\u001b[0m \u001b[0;34m\u001b[0m\u001b[0m\n",
      "\u001b[0;31mKeyboardInterrupt\u001b[0m: "
     ]
    }
   ],
   "source": [
    "# Pass the database collection and initial end date into main function\n",
    "scrape_articles(articles, last_date)"
   ]
  },
  {
   "cell_type": "code",
   "execution_count": null,
   "metadata": {
    "collapsed": true
   },
   "outputs": [],
   "source": []
  }
 ],
 "metadata": {
  "anaconda-cloud": {},
  "kernelspec": {
   "display_name": "Python 2",
   "language": "python",
   "name": "python2"
  },
  "language_info": {
   "codemirror_mode": {
    "name": "ipython",
    "version": 2
   },
   "file_extension": ".py",
   "mimetype": "text/x-python",
   "name": "python",
   "nbconvert_exporter": "python",
   "pygments_lexer": "ipython2",
   "version": "2.7.14"
  }
 },
 "nbformat": 4,
 "nbformat_minor": 1
}

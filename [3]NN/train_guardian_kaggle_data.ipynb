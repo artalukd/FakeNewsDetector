{
 "cells": [
  {
   "cell_type": "code",
   "execution_count": 149,
   "metadata": {
    "collapsed": true
   },
   "outputs": [],
   "source": [
    "\n",
    "%matplotlib inline\n",
    "import pandas as pd\n",
    "import numpy as np\n",
    "import matplotlib.pyplot as plt\n",
    "import re\n",
    "from keras.models import Sequential\n",
    "from keras.layers import Activation, Dropout, Flatten, Dense, BatchNormalization, LSTM, Embedding, Reshape\n",
    "from keras.models import load_model, model_from_json\n",
    "from sklearn.model_selection import train_test_split\n",
    "import os\n",
    "from os import mkdir, makedirs, remove, listdir\n",
    "from collections import Counter\n"
   ]
  },
  {
   "cell_type": "code",
   "execution_count": 150,
   "metadata": {
    "collapsed": true
   },
   "outputs": [],
   "source": [
    "with open('./data/glove.6B.50d.txt','rb') as f:\n",
    "    lines = f.readlines()\n",
    "    \n",
    "glove_weights = np.zeros((len(lines), 50))\n",
    "words = []\n",
    "for i, line in enumerate(lines):\n",
    "    word_weights = line.split()\n",
    "    words.append(word_weights[0])\n",
    "    weight = word_weights[1:]\n",
    "    glove_weights[i] = np.array([float(w) for w in weight])\n",
    "word_vocab = [w.decode(\"utf-8\") for w in words]\n",
    "\n",
    "word2glove = dict(zip(word_vocab, glove_weights))"
   ]
  },
  {
   "cell_type": "code",
   "execution_count": 151,
   "metadata": {
    "collapsed": true
   },
   "outputs": [],
   "source": [
    "from keras.engine.topology import Layer\n",
    "import keras.backend as K\n",
    "from keras import initializers\n",
    "import numpy as np\n",
    "\n",
    "class Embedding2(Layer):\n",
    "\n",
    "    def __init__(self, input_dim, output_dim, fixed_weights, embeddings_initializer='uniform', \n",
    "                 input_length=None, **kwargs):\n",
    "        kwargs['dtype'] = 'int32'\n",
    "        if 'input_shape' not in kwargs:\n",
    "            if input_length:\n",
    "                kwargs['input_shape'] = (input_length,)\n",
    "            else:\n",
    "                kwargs['input_shape'] = (None,)\n",
    "        super(Embedding2, self).__init__(**kwargs)\n",
    "    \n",
    "        self.input_dim = input_dim\n",
    "        self.output_dim = output_dim\n",
    "        self.embeddings_initializer = embeddings_initializer\n",
    "        self.fixed_weights = fixed_weights\n",
    "        self.num_trainable = input_dim - len(fixed_weights)\n",
    "        self.input_length = input_length\n",
    "        \n",
    "        w_mean = fixed_weights.mean(axis=0)\n",
    "        w_std = fixed_weights.std(axis=0)\n",
    "        self.variable_weights = w_mean + w_std*np.random.randn(self.num_trainable, output_dim)\n",
    "\n",
    "    def build(self, input_shape, name='embeddings'):        \n",
    "        fixed_weight = K.variable(self.fixed_weights, name=name+'_fixed')\n",
    "        variable_weight = K.variable(self.variable_weights, name=name+'_var')\n",
    "        \n",
    "        self._trainable_weights.append(variable_weight)\n",
    "        self._non_trainable_weights.append(fixed_weight)\n",
    "        \n",
    "        self.embeddings = K.concatenate([fixed_weight, variable_weight], axis=0)\n",
    "        \n",
    "        self.built = True\n",
    "\n",
    "    def call(self, inputs):\n",
    "        if K.dtype(inputs) != 'int32':\n",
    "            inputs = K.cast(inputs, 'int32')\n",
    "        out = K.gather(self.embeddings, inputs)\n",
    "        return out\n",
    "\n",
    "    def compute_output_shape(self, input_shape):\n",
    "        if not self.input_length:\n",
    "            input_length = input_shape[1]\n",
    "        else:\n",
    "            input_length = self.input_length\n",
    "        return (input_shape[0], input_length, self.output_dim)\n"
   ]
  },
  {
   "cell_type": "code",
   "execution_count": 152,
   "metadata": {
    "scrolled": true
   },
   "outputs": [
    {
     "name": "stdout",
     "output_type": "stream",
     "text": [
      "(24319, 3)\n"
     ]
    },
    {
     "data": {
      "text/html": [
       "<div>\n",
       "<style>\n",
       "    .dataframe thead tr:only-child th {\n",
       "        text-align: right;\n",
       "    }\n",
       "\n",
       "    .dataframe thead th {\n",
       "        text-align: left;\n",
       "    }\n",
       "\n",
       "    .dataframe tbody tr th {\n",
       "        vertical-align: top;\n",
       "    }\n",
       "</style>\n",
       "<table border=\"1\" class=\"dataframe\">\n",
       "  <thead>\n",
       "    <tr style=\"text-align: right;\">\n",
       "      <th></th>\n",
       "      <th>title</th>\n",
       "      <th>text</th>\n",
       "      <th>label</th>\n",
       "    </tr>\n",
       "  </thead>\n",
       "  <tbody>\n",
       "    <tr>\n",
       "      <th>0</th>\n",
       "      <td>english businesses should be forced to show hy...</td>\n",
       "      <td>all premises in england that sell food should ...</td>\n",
       "      <td>REAL</td>\n",
       "    </tr>\n",
       "    <tr>\n",
       "      <th>1</th>\n",
       "      <td>tips should go to workers not employers says g...</td>\n",
       "      <td>tips in restaurants hotels and bars should go ...</td>\n",
       "      <td>REAL</td>\n",
       "    </tr>\n",
       "    <tr>\n",
       "      <th>2</th>\n",
       "      <td>sturgeon accused of breaking independence prom...</td>\n",
       "      <td>election debates are more common in holyrood p...</td>\n",
       "      <td>REAL</td>\n",
       "    </tr>\n",
       "    <tr>\n",
       "      <th>3</th>\n",
       "      <td>second scottish independence vote not yet on t...</td>\n",
       "      <td>nicola sturgeon has said a second independence...</td>\n",
       "      <td>REAL</td>\n",
       "    </tr>\n",
       "    <tr>\n",
       "      <th>4</th>\n",
       "      <td>bernie sanders vows a contested convention des...</td>\n",
       "      <td>bernie sanders acknowledged an uphill climb ah...</td>\n",
       "      <td>REAL</td>\n",
       "    </tr>\n",
       "  </tbody>\n",
       "</table>\n",
       "</div>"
      ],
      "text/plain": [
       "                                               title  \\\n",
       "0  english businesses should be forced to show hy...   \n",
       "1  tips should go to workers not employers says g...   \n",
       "2  sturgeon accused of breaking independence prom...   \n",
       "3  second scottish independence vote not yet on t...   \n",
       "4  bernie sanders vows a contested convention des...   \n",
       "\n",
       "                                                text label  \n",
       "0  all premises in england that sell food should ...  REAL  \n",
       "1  tips in restaurants hotels and bars should go ...  REAL  \n",
       "2  election debates are more common in holyrood p...  REAL  \n",
       "3  nicola sturgeon has said a second independence...  REAL  \n",
       "4  bernie sanders acknowledged an uphill climb ah...  REAL  "
      ]
     },
     "execution_count": 152,
     "metadata": {},
     "output_type": "execute_result"
    }
   ],
   "source": [
    "df = pd.read_csv('data/clean_actual_data_all_news.csv')\n",
    "df.columns = ['title','text','label']\n",
    "\n",
    "df.title = df.title.str.lower()\n",
    "df.text = df.text.str.lower()\n",
    "\n",
    "df.title = df.title.str.replace(r'http[\\w:/\\.]+','<URL>') # remove urls\n",
    "df.text = df.text.str.replace(r'http[\\w:/\\.]+','<URL>') # remove urls\n",
    "df.title = df.title.str.replace(r'[^\\.\\w\\s]','') #remove everything but characters and punctuation\n",
    "df.text = df.text.str.replace(r'[^\\.\\w\\s]','') #remove everything but characters and punctuation\n",
    "df.title = df.title.str.replace(r'\\.\\.+','.') #replace multple periods with a single one\n",
    "df.text = df.text.str.replace(r'\\.\\.+','.') #replace multple periods with a single one\n",
    "df.title = df.title.str.replace(r'\\.',' . ') #replace periods with a single one\n",
    "df.text = df.text.str.replace(r'\\.',' . ') #replace multple periods with a single one\n",
    "df.title = df.title.str.replace(r'\\s\\s+',' ') #replace multple white space with a single one\n",
    "df.text = df.text.str.replace(r'\\s\\s+',' ') #replace multple white space with a single one\n",
    "df.title = df.title.str.strip() \n",
    "df.text = df.text.str.strip() \n",
    "print(df.shape)\n",
    "df.head()"
   ]
  },
  {
   "cell_type": "code",
   "execution_count": 153,
   "metadata": {},
   "outputs": [
    {
     "name": "stdout",
     "output_type": "stream",
     "text": [
      "('Fraction of unique words in glove vectors: ', 0)\n",
      "('The number of unique words are: ', 188527)\n",
      "The first review looks like this: \n",
      "[54, 7598, 6, 608, 7, 1562, 557, 100, 17, 803, 2, 3670, 9680, 3410, 2, 1638, 53, 1384, 5, 885]\n",
      "And once this is converted back to words, it looks like: \n",
      "all premises in england that sell food should be forced to display hygiene ratings to drive up standards and protect\n"
     ]
    }
   ],
   "source": [
    "for li1 in range(len(df.text.values)):\n",
    "    if not type(df.text.values[li1]) is str:\n",
    "        print li1\n",
    "        \n",
    "\n",
    "\n",
    "all_text = ' '.join(df.text.values)\n",
    "words = all_text.split()\n",
    "u_words = Counter(words).most_common()\n",
    "u_words_counter = u_words\n",
    "u_words_frequent = [word[0] for word in u_words if word[1]>5] # we will only consider words that have been used more than 5 times\n",
    "\n",
    "u_words_total = [k for k,v in u_words_counter]\n",
    "word_vocab = dict(zip(word_vocab, range(len(word_vocab))))\n",
    "word_in_glove = np.array([w in word_vocab for w in u_words_total])\n",
    "\n",
    "words_in_glove = [w for w,is_true in zip(u_words_total,word_in_glove) if is_true]\n",
    "words_not_in_glove = [w for w,is_true in zip(u_words_total,word_in_glove) if not is_true]\n",
    "\n",
    "print('Fraction of unique words in glove vectors: ', sum(word_in_glove)/len(word_in_glove))\n",
    "\n",
    "word2num = dict(zip(words_in_glove,range(len(words_in_glove))))\n",
    "len_glove_words = len(word2num)\n",
    "freq_words_not_glove = [w for w in words_not_in_glove if w in u_words_frequent]\n",
    "b = dict(zip(freq_words_not_glove,range(len(word2num), len(word2num)+len (freq_words_not_glove))))\n",
    "word2num.update(b)\n",
    "\n",
    "word2num['<Other>'] = len(word2num)\n",
    "num2word = dict(zip(word2num.values(), word2num.keys()))\n",
    "\n",
    "int_text = [[word2num[word] if word in word2num else word2num['<Other>'] \n",
    "             for word in content.split()] for content in df.text.values]\n",
    "\n",
    "print('The number of unique words are: ', len(u_words))\n",
    "print('The first review looks like this: ')\n",
    "print(int_text[0][:20])\n",
    "print('And once this is converted back to words, it looks like: ')\n",
    "print(' '.join([num2word[i] for i in int_text[0][:20]]))"
   ]
  },
  {
   "cell_type": "code",
   "execution_count": 154,
   "metadata": {
    "scrolled": true
   },
   "outputs": [
    {
     "data": {
      "image/png": "[encoded data removed]",
      "text/plain": [
       "<matplotlib.figure.Figure at 0x7f9c27e75b90>"
      ]
     },
     "metadata": {},
     "output_type": "display_data"
    }
   ],
   "source": [
    "plt.hist([len(t) for t in int_text],50)\n",
    "plt.show()"
   ]
  },
  {
   "cell_type": "code",
   "execution_count": 155,
   "metadata": {},
   "outputs": [
    {
     "name": "stdout",
     "output_type": "stream",
     "text": [
      "('The number of articles greater than 500 in length is: ', 17520)\n",
      "('The number of articles less than 500 in length is: ', 6776)\n"
     ]
    }
   ],
   "source": [
    "print('The number of articles greater than 500 in length is: ', np.sum(np.array([len(t)>500 for t in int_text])))\n",
    "print('The number of articles less than 500 in length is: ', np.sum(np.array([len(t)<500 for t in int_text])))"
   ]
  },
  {
   "cell_type": "code",
   "execution_count": 156,
   "metadata": {
    "collapsed": true
   },
   "outputs": [],
   "source": [
    "num2word[len(word2num)] = '<PAD>'\n",
    "word2num['<PAD>'] = len(word2num)\n",
    "for i, t in enumerate(int_text):\n",
    "    if len(t)<500:\n",
    "        int_text[i] = [word2num['<PAD>']]*(500-len(t)) + t\n",
    "    elif len(t)>500:\n",
    "        int_text[i] = t[:500]\n",
    "    else:\n",
    "        continue\n",
    "x = np.array(int_text)\n",
    "y = (df.label.values=='REAL').astype('int')  # converts all reals to 1 and all fakes to 0\n",
    "# to get a 72,18,10 train-validate-test split, uncomment last line\n",
    "X_train, X_test, y_train, y_test = train_test_split(x, y, test_size=0.1, random_state=42)\n"
   ]
  },
  {
   "cell_type": "code",
   "execution_count": 157,
   "metadata": {},
   "outputs": [
    {
     "data": {
      "text/plain": [
       "'all premises in england that sell food should be forced to display hygiene ratings to drive up standards and protect consumers from the risk of eating food prepared and cooked in unsanitary kitchens local councils said on monday . council environmental health teams score outlets from zero to five based on factors such as kitchen cleanliness cooking methods and food management but businesses in england do not have to display the socalled scores on the doors ratings they have been given . compulsory ratings already exist in wales and will be introduced in northern ireland in october . the local government association lga is calling for mandatory display to be extended to england to help raise food hygiene standards at restaurants pubs cafes takeaways sandwich shops supermarkets and delicatessens and to reassure consumers . the hygiene scores for more than 412000 english premises can currently be found on the food standards agencys website . businesses across england should by law be forced have to display their stickers at their premises or face fines or prosecution if they fail to comply according to the lga which represents more than 370 councils in england and wales . anyone in england who sees a business without a hygiene rating sticker currently has to decide if they want to eat or buy food there without knowing whats going on in the kitchen said councillor simon blackburn the chair of the lgas safer and stronger communities board . its not always easy for people to judge hygiene standards simply by walking through the front door of a premise and know whether they are about to be served a dodgy burger or kebab that could pose a serious risk to their health . councils always take action to tackle poor or dangerous hygiene and improve conditions and see firsthand what shockingly can go on behind closed doors at rogue food premises . businesses have recently been prosecuted for being riddled with mice or cockroach infestations rodent droppings on food and caught with a chef smoking when preparing food . mandatory display of food hygiene ratings is supported by the consumer organisation which the chartered institute for environmental health and many environmental health officers . last year gordon ramsays maze restaurant in mayfair london scored just two out of five after inspectors found cockroaches on the premises . immediate steps were taken and maze now scores top marks . the lga released details of recent food safety breaches including in croydon where more than 100 food outlets failed to meet expected hygiene standards last year including 22 on a single street . one of the largest fines ever levied for food hygiene offences was imposed on a company operating two croydon 99p stores . it was fined 154000 in november 2015 after admitting seven breaches of food safety and hygiene laws . both shops were found to have large mouse infestations when croydon council food and safety officers visited . liverpool city council health inspectors found a mice infestation at a city centre branch of costa coffee which was fined 13200 in court in march . the business agreed to a voluntary closure and admitted three charges of breaching food safety and hygiene laws . liverpool council has since awarded it a fivestar hygiene rating after successfully dealing with the problem .'"
      ]
     },
     "execution_count": 157,
     "metadata": {},
     "output_type": "execute_result"
    }
   ],
   "source": [
    "df[df.label=='REAL'].text.values[0]"
   ]
  },
  {
   "cell_type": "code",
   "execution_count": 158,
   "metadata": {},
   "outputs": [
    {
     "data": {
      "text/plain": [
       "'18 share the amish in america have committed their vote to donald trump guaranteeing him the presidency . ap photo dennis system columbus oh ap history was made today in columbus ohio when more than 3 million amish poured into the city to see the american amish brotherhood aab an organization which acts as an informal governing body for the amish community endorse donald trump for president . that number represents a significant portion of the total amish population which the united states census bureau says numbers more than 20 million men and women nationwide all pledging their vote to trump for president . with the full force of the amish community behind him donald trump is now mathematically guaranteed to win the presidency in november . the organization typically meets once a year and the meetings usually consist of about 300 amish leaders who meet to discuss the challenges such as urban sprawl that face the community . this year however the organization wanted as many people in attendance as possible so they can effectively instruct all amish men and women of legal voting age to cast their vote for the flamboyant republican nominee . the amish who are direct descendants of the protestant reformation sect known as the anabaptists have typically stayed out of politics in the past . as a general rule they dont vote serve in the military or engage in any other displays of patriotism . this year however the aab has said that it is imperative that they get involved in the democratic process . over the past eight years the democratic party has launched a systematic assault on biblical virtues said aab chairman menno simons . we have seen more and more christians being persecuted for their faith we have seen the state defile the institution of marriage . now they want to put a woman in the nations highest leadership role in direct violation of 1 timothy 212 . we need to stop this assault and take a stand for biblical principles . donald trump has shown in both action and deed that he is committed to restoring this country to the lords way . according to statistician nate silver of the website fivethirtyeight . com there are no possible scenarios in which hillary clinton can win with donald trump carrying the amish vote . the amish have their highest numbers in perennial swing states like pennsylvania virginia ohio indiana and iowa silver noted . they also have strong numbers in reliably democratic states like michigan illinois and new york meaning that hillary will lose those states as well . there is also a sizeable community in florida which while not as large as it is in the midwest is still large enough to turn florida for trump . over the next two weeks you can expect hillary to enter into a state of freefall in all of my predictive models . the clinton campaign issued a written statement to the aab asking them to reconsider their decision . i dont believe that donald trump is the person who best represents your interests clinton wrote to the aab . as a career real estate developer he represents a clear threat to your simple way of life . as former first lady of arkansas i understand the concerns of rural americans more than any candidate in this election . i implore you to consider all of the facts before voting for my opponent . most pundits believe that mrs . clintons plea is too little too late . during a press conference in manhattan trump thanked the aab for their support and promised to put the amish to work maintaining government buildings which he said would save taxpayers millions because the amish do great work for a very low price . though clinton has pledged to stay in the race until the very end many of her campaign workers have already resigned . according to the associated press it is expected that the clinton campaign will lose 50 of its staff over the next two weeks . there is a general mood of hopelessness and despair in the clinton camp and many simply want to cut their losses . it looked like she was going to win this election easily said paul horner a campaign worker in ohio but this is what happens when you wake a sleeping giant . cleary mrs . clinton took far too much for granted in this race and we are all now paying the price . its really sad to see the campaign end this way . if you are interested in learning more about the amish community and the aab you can contact the pennsylvania amish heritage museum at 785 2730325 . tags'"
      ]
     },
     "execution_count": 158,
     "metadata": {},
     "output_type": "execute_result"
    }
   ],
   "source": [
    "df[df.label=='FAKE'].text.values[0]"
   ]
  },
  {
   "cell_type": "code",
   "execution_count": 161,
   "metadata": {},
   "outputs": [
    {
     "name": "stdout",
     "output_type": "stream",
     "text": [
      "_________________________________________________________________\n",
      "Layer (type)                 Output Shape              Param #   \n",
      "=================================================================\n",
      "embedding2_5 (Embedding2)    (None, None, 50)          5486900   \n",
      "_________________________________________________________________\n",
      "lstm_5 (LSTM)                (None, 64)                29440     \n",
      "_________________________________________________________________\n",
      "dense_5 (Dense)              (None, 1)                 65        \n",
      "=================================================================\n",
      "Total params: 5,516,405\n",
      "Trainable params: 420,205\n",
      "Non-trainable params: 5,096,200\n",
      "_________________________________________________________________\n"
     ]
    }
   ],
   "source": [
    "model = Sequential()\n",
    "model.add(Embedding2(len(word2num), 50,\n",
    "                    fixed_weights=np.array([word2glove[w] for w in words_in_glove]))) # , batch_size=batch_size\n",
    "model.add(LSTM(64))\n",
    "model.add(Dense(1, activation='sigmoid'))\n",
    "\n",
    "model.compile(loss='binary_crossentropy', optimizer='rmsprop', metrics=['accuracy'])\n",
    "model.summary()"
   ]
  },
  {
   "cell_type": "code",
   "execution_count": 162,
   "metadata": {},
   "outputs": [
    {
     "name": "stdout",
     "output_type": "stream",
     "text": [
      "Train on 21887 samples, validate on 2432 samples\n",
      "Epoch 1/15\n",
      "21887/21887 [==============================] - 188s 9ms/step - loss: 0.3647 - acc: 0.8580 - val_loss: 0.2977 - val_acc: 0.8840\n",
      "Epoch 2/15\n",
      "21887/21887 [==============================] - 196s 9ms/step - loss: 0.3100 - acc: 0.8772 - val_loss: 0.2883 - val_acc: 0.8701\n",
      "Epoch 3/15\n",
      "21887/21887 [==============================] - 203s 9ms/step - loss: 0.2843 - acc: 0.8845 - val_loss: 0.2723 - val_acc: 0.8914\n",
      "Epoch 4/15\n",
      "21887/21887 [==============================] - 196s 9ms/step - loss: 0.2734 - acc: 0.8844 - val_loss: 0.2539 - val_acc: 0.8902\n",
      "Epoch 5/15\n",
      "21887/21887 [==============================] - 194s 9ms/step - loss: 0.2396 - acc: 0.8998 - val_loss: 0.2471 - val_acc: 0.8964\n",
      "Epoch 6/15\n",
      "21887/21887 [==============================] - 194s 9ms/step - loss: 0.2094 - acc: 0.9151 - val_loss: 0.1870 - val_acc: 0.9305\n",
      "Epoch 7/15\n",
      "21887/21887 [==============================] - 194s 9ms/step - loss: 0.1646 - acc: 0.9377 - val_loss: 0.1558 - val_acc: 0.9449\n",
      "Epoch 8/15\n",
      "21887/21887 [==============================] - 194s 9ms/step - loss: 0.1273 - acc: 0.9533 - val_loss: 0.1243 - val_acc: 0.9585\n",
      "Epoch 9/15\n",
      "21887/21887 [==============================] - 194s 9ms/step - loss: 0.1051 - acc: 0.9636 - val_loss: 0.1063 - val_acc: 0.9630\n",
      "Epoch 10/15\n",
      "21887/21887 [==============================] - 194s 9ms/step - loss: 0.0862 - acc: 0.9689 - val_loss: 0.1517 - val_acc: 0.9420\n",
      "Epoch 11/15\n",
      "21887/21887 [==============================] - 193s 9ms/step - loss: 0.0702 - acc: 0.9747 - val_loss: 0.0814 - val_acc: 0.9720\n",
      "Epoch 12/15\n",
      "21887/21887 [==============================] - 194s 9ms/step - loss: 0.0590 - acc: 0.9799 - val_loss: 0.0873 - val_acc: 0.9696\n",
      "Epoch 13/15\n",
      "21887/21887 [==============================] - 197s 9ms/step - loss: 0.0516 - acc: 0.9833 - val_loss: 0.0777 - val_acc: 0.9712\n",
      "Epoch 14/15\n",
      "21887/21887 [==============================] - 198s 9ms/step - loss: 0.0477 - acc: 0.9841 - val_loss: 0.0786 - val_acc: 0.9737\n",
      "Epoch 15/15\n",
      "21887/21887 [==============================] - 195s 9ms/step - loss: 0.0399 - acc: 0.9869 - val_loss: 0.0717 - val_acc: 0.9770\n"
     ]
    },
    {
     "data": {
      "text/plain": [
       "<keras.callbacks.History at 0x7f9c3f77b910>"
      ]
     },
     "execution_count": 162,
     "metadata": {},
     "output_type": "execute_result"
    }
   ],
   "source": [
    "#batch_size = 128\n",
    "batch_size = 64 # smaller for toy data\n",
    "model.fit(X_train, y_train, batch_size=batch_size, epochs=15, validation_data=(X_test, y_test))"
   ]
  },
  {
   "cell_type": "code",
   "execution_count": 163,
   "metadata": {},
   "outputs": [
    {
     "data": {
      "text/plain": [
       "array([[ 0.00297526]], dtype=float32)"
      ]
     },
     "execution_count": 163,
     "metadata": {},
     "output_type": "execute_result"
    }
   ],
   "source": [
    "sentence = \"North korea is testing out missiles on americans living overseas .\".lower()\n",
    "sentence_num = [word2num[w] if w in word2num else word2num['<Other>'] for w in sentence.split()]\n",
    "sentence_num = [word2num['<PAD>']]*(500-len(sentence_num)) + sentence_num\n",
    "sentence_num = np.array(sentence_num)\n",
    "model.predict(sentence_num[None,:])"
   ]
  },
  {
   "cell_type": "code",
   "execution_count": 166,
   "metadata": {},
   "outputs": [
    {
     "data": {
      "text/plain": [
       "array([[ 0.29150048]], dtype=float32)"
      ]
     },
     "execution_count": 166,
     "metadata": {},
     "output_type": "execute_result"
    }
   ],
   "source": [
    "sentence = \"President Trump is the greatest president of all time period .\".lower()\n",
    "sentence_num = [word2num[w] if w in word2num else word2num['<Other>'] for w in sentence.split()]\n",
    "sentence_num = [word2num['<PAD>']]*(0) + sentence_num\n",
    "sentence_num = np.array(sentence_num)\n",
    "model.predict(sentence_num[None,:])"
   ]
  },
  {
   "cell_type": "code",
   "execution_count": 186,
   "metadata": {},
   "outputs": [
    {
     "name": "stdout",
     "output_type": "stream",
     "text": [
      "2432/2432 [==============================] - 6s 3ms/step\n",
      "0.0717485454071 0.976973684211\n"
     ]
    }
   ],
   "source": [
    "loss,accuracy = model.evaluate(X_test, y_test)\n",
    "print loss,accuracy"
   ]
  },
  {
   "cell_type": "code",
   "execution_count": 1,
   "metadata": {},
   "outputs": [
    {
     "ename": "NameError",
     "evalue": "name 'X_test' is not defined",
     "output_type": "error",
     "traceback": [
      "\u001b[0;31m---------------------------------------------------------------------------\u001b[0m",
      "\u001b[0;31mNameError\u001b[0m                                 Traceback (most recent call last)",
      "\u001b[0;32m<ipython-input-1-2c566c3669b7>\u001b[0m in \u001b[0;36m<module>\u001b[0;34m()\u001b[0m\n\u001b[1;32m      1\u001b[0m \u001b[0;34m\u001b[0m\u001b[0m\n\u001b[1;32m      2\u001b[0m \u001b[0mcount\u001b[0m \u001b[0;34m=\u001b[0m \u001b[0;36m0\u001b[0m\u001b[0;34m\u001b[0m\u001b[0m\n\u001b[0;32m----> 3\u001b[0;31m \u001b[0;32mfor\u001b[0m \u001b[0mli1\u001b[0m \u001b[0;32min\u001b[0m \u001b[0mrange\u001b[0m\u001b[0;34m(\u001b[0m\u001b[0mlen\u001b[0m\u001b[0;34m(\u001b[0m\u001b[0mX_test\u001b[0m\u001b[0;34m)\u001b[0m\u001b[0;34m)\u001b[0m\u001b[0;34m:\u001b[0m\u001b[0;34m\u001b[0m\u001b[0m\n\u001b[0m\u001b[1;32m      4\u001b[0m     \u001b[0mprediction\u001b[0m \u001b[0;34m=\u001b[0m \u001b[0mmodel\u001b[0m\u001b[0;34m.\u001b[0m\u001b[0mpredict\u001b[0m\u001b[0;34m(\u001b[0m\u001b[0mX_test\u001b[0m\u001b[0;34m[\u001b[0m\u001b[0mli1\u001b[0m\u001b[0;34m]\u001b[0m\u001b[0;34m[\u001b[0m\u001b[0mNone\u001b[0m\u001b[0;34m,\u001b[0m\u001b[0;34m:\u001b[0m\u001b[0;34m]\u001b[0m\u001b[0;34m)\u001b[0m\u001b[0;34m\u001b[0m\u001b[0m\n\u001b[1;32m      5\u001b[0m     \u001b[0manswer\u001b[0m \u001b[0;34m=\u001b[0m \u001b[0my_test\u001b[0m\u001b[0;34m[\u001b[0m\u001b[0mli1\u001b[0m\u001b[0;34m]\u001b[0m\u001b[0;34m\u001b[0m\u001b[0m\n",
      "\u001b[0;31mNameError\u001b[0m: name 'X_test' is not defined"
     ]
    }
   ],
   "source": [
    "\n",
    "count = 0\n",
    "for li1 in range(len(X_test)):\n",
    "    prediction = model.predict(X_test[li1][None,:])\n",
    "    answer = y_test[li1]\n",
    "    print prediction,answer,\n",
    "    if (answer == 1 and prediction >= 0.5):\n",
    "        print \"correct\"\n",
    "        count += 1\n",
    "    elif (answer == 0 and prediction < 0.5):\n",
    "        print \"correct\"\n",
    "        count += 1\n",
    "    else:\n",
    "        print \"wrong\"\n",
    "\n",
    "print \"Accuracy = \", float(count) / len(X_test)\n",
    "    "
   ]
  },
  {
   "cell_type": "code",
   "execution_count": 209,
   "metadata": {},
   "outputs": [
    {
     "data": {
      "text/plain": [
       "array([[ 0.68620032]], dtype=float32)"
      ]
     },
     "execution_count": 209,
     "metadata": {},
     "output_type": "execute_result"
    }
   ],
   "source": [
    "sentence = \"The family and lawyers of a Ryan school student who was murdered inside the school premises demanded that a 16 year old boy apprehended in the case by the CBI on Wednesday be tried as an adult and be given strict punishment They also expressed suspicion about the involvement of school authorities in destruction of evidence and sought that the top management officials of the school be questioned by the Central Bureau of Investigation CBI in the matter\".lower()\n",
    "sentence_num = [word2num[w] if w in word2num else word2num['<Other>'] for w in sentence.split()]\n",
    "sentence_num = [word2num['<PAD>']]*(0) + sentence_num\n",
    "sentence_num = np.array(sentence_num)\n",
    "model.predict(sentence_num[None,:])"
   ]
  },
  {
   "cell_type": "code",
   "execution_count": 175,
   "metadata": {
    "collapsed": true
   },
   "outputs": [],
   "source": [
    "model.save(\"first_trained_model.h5\")"
   ]
  }
 ],
 "metadata": {
  "kernelspec": {
   "display_name": "Python 2",
   "language": "python",
   "name": "python2"
  },
  "language_info": {
   "codemirror_mode": {
    "name": "ipython",
    "version": 2
   },
   "file_extension": ".py",
   "mimetype": "text/x-python",
   "name": "python",
   "nbconvert_exporter": "python",
   "pygments_lexer": "ipython2",
   "version": "2.7.14"
  }
 },
 "nbformat": 4,
 "nbformat_minor": 2
}

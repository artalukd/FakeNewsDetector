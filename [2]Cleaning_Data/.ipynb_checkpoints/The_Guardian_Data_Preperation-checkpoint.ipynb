{
 "cells": [
  {
   "cell_type": "markdown",
   "metadata": {},
   "source": [
    "# Comibing The Articles From The Guardian, EDA and Cleaning"
   ]
  },
  {
   "cell_type": "markdown",
   "metadata": {},
   "source": [
    "<img src='theguardian.jpg'>\n",
    "<img src='TGuard_WordCloud.jpg'>"
   ]
  },
  {
   "cell_type": "markdown",
   "metadata": {},
   "source": [
    "# Importing packages"
   ]
  },
  {
   "cell_type": "code",
   "execution_count": 1,
   "metadata": {
    "collapsed": true
   },
   "outputs": [],
   "source": [
    "import zipfile\n",
    "import os\n",
    "import json\n",
    "from pprint import pprint\n",
    "import pandas as pd\n",
    "import numpy as np\n",
    "import matplotlib.pyplot as plt\n",
    "import re\n",
    "import collections\n",
    "%matplotlib inline\n",
    "%config InlineBackend.figure_format = 'retina'"
   ]
  },
  {
   "cell_type": "code",
   "execution_count": 2,
   "metadata": {
    "collapsed": true
   },
   "outputs": [],
   "source": [
    "# First file to start with\n",
    "df = pd.read_json(\"/home/dk/Downloads/3-1 BITS/Acads/Resources/Information Retrieval/Assignment/our_code/[2]Cleaning_Data/guardian_data/2016-05-01.json\" , encoding='uth-8')"
   ]
  },
  {
   "cell_type": "code",
   "execution_count": 3,
   "metadata": {},
   "outputs": [
    {
     "name": "stdout",
     "output_type": "stream",
     "text": [
      "This is the  100 th file -->\n",
      "This is the  200 th file -->\n",
      "This is the  300 th file -->\n"
     ]
    }
   ],
   "source": [
    "# Combining all json files to a one data frame\n",
    "count = 0\n",
    "for filename in os.listdir(\"/home/dk/Downloads/3-1 BITS/Acads/Resources/Information Retrieval/Assignment/our_code/[2]Cleaning_Data/guardian_data/\"):\n",
    "    count+=1\n",
    "    if count>2:\n",
    "        #print filename\n",
    "        file_path = \"/home/dk/Downloads/3-1 BITS/Acads/Resources/Information Retrieval/Assignment/our_code/[2]Cleaning_Data/guardian_data/\" + filename\n",
    "        df_ = pd.read_json(file_path , encoding='uth-8')\n",
    "        df = pd.concat(objs= [df,df_], axis=0,ignore_index=True)\n",
    "        \n",
    "        # To see the progress, print the number of the file\n",
    "        if count%100 ==0:\n",
    "            print \"This is the \",count,\"th file -->\""
   ]
  },
  {
   "cell_type": "code",
   "execution_count": 4,
   "metadata": {
    "collapsed": true
   },
   "outputs": [],
   "source": [
    "# Getting bodytext from the dataframe\n",
    "lst = []\n",
    "for i in range(df.shape[0]):\n",
    "    lst.append(df.fields[i][\"bodyText\"])"
   ]
  },
  {
   "cell_type": "code",
   "execution_count": 5,
   "metadata": {
    "collapsed": true
   },
   "outputs": [],
   "source": [
    "# Creating a column with bodytext\n",
    "df[\"bodyText\"] = lst"
   ]
  },
  {
   "cell_type": "code",
   "execution_count": 6,
   "metadata": {
    "collapsed": true
   },
   "outputs": [],
   "source": [
    "# Getting headlines from the dataframe\n",
    "lst_head = []\n",
    "for i in range(df.shape[0]):\n",
    "        lst_head.append(df.fields[i][\"headline\"])"
   ]
  },
  {
   "cell_type": "code",
   "execution_count": 7,
   "metadata": {
    "collapsed": true
   },
   "outputs": [],
   "source": [
    "# Creating a column with headline\n",
    "df[\"headline\"] = lst_head"
   ]
  },
  {
   "cell_type": "code",
   "execution_count": 8,
   "metadata": {
    "collapsed": true
   },
   "outputs": [],
   "source": [
    "# Getting rid of the embty bodies\n",
    "df = df[df.bodyText != \"\"]"
   ]
  },
  {
   "cell_type": "code",
   "execution_count": 9,
   "metadata": {},
   "outputs": [
    {
     "data": {
      "text/plain": [
       "(91032, 14)"
      ]
     },
     "execution_count": 9,
     "metadata": {},
     "output_type": "execute_result"
    }
   ],
   "source": [
    "# Total Number of Articles\n",
    "df.shape"
   ]
  },
  {
   "cell_type": "code",
   "execution_count": 10,
   "metadata": {
    "collapsed": true
   },
   "outputs": [],
   "source": [
    "# Filtering articles based on topics\n",
    "df = df[(df.sectionName == 'US news') | (df.sectionName == 'Business') | (df.sectionName == 'Politics') | (df.sectionName == 'World news')]"
   ]
  },
  {
   "cell_type": "code",
   "execution_count": 11,
   "metadata": {},
   "outputs": [
    {
     "name": "stdout",
     "output_type": "stream",
     "text": [
      "<class 'pandas.core.frame.DataFrame'>\n",
      "Int64Index: 19992 entries, 5 to 92374\n",
      "Data columns (total 14 columns):\n",
      "apiUrl                19992 non-null object\n",
      "fields                19992 non-null object\n",
      "id                    19992 non-null object\n",
      "isHosted              19992 non-null bool\n",
      "pillarId              0 non-null object\n",
      "pillarName            0 non-null object\n",
      "sectionId             19992 non-null object\n",
      "sectionName           19992 non-null object\n",
      "type                  19992 non-null object\n",
      "webPublicationDate    19992 non-null object\n",
      "webTitle              19992 non-null object\n",
      "webUrl                19992 non-null object\n",
      "bodyText              19992 non-null object\n",
      "headline              19992 non-null object\n",
      "dtypes: bool(1), object(13)\n",
      "memory usage: 2.2+ MB\n"
     ]
    }
   ],
   "source": [
    "# Getting to see the dataframe info (data type, non-null value etc.)\n",
    "df.info()"
   ]
  },
  {
   "cell_type": "code",
   "execution_count": 12,
   "metadata": {},
   "outputs": [
    {
     "data": {
      "text/plain": [
       "Counter({u'Business': 4215,\n",
       "         u'Politics': 4442,\n",
       "         u'US news': 4865,\n",
       "         u'World news': 6470})"
      ]
     },
     "execution_count": 12,
     "metadata": {},
     "output_type": "execute_result"
    }
   ],
   "source": [
    "# To see how many articles in each category\n",
    "collections.Counter(df.sectionName)"
   ]
  },
  {
   "cell_type": "code",
   "execution_count": 13,
   "metadata": {},
   "outputs": [
    {
     "data": {
      "text/html": [
       "<div>\n",
       "<style>\n",
       "    .dataframe thead tr:only-child th {\n",
       "        text-align: right;\n",
       "    }\n",
       "\n",
       "    .dataframe thead th {\n",
       "        text-align: left;\n",
       "    }\n",
       "\n",
       "    .dataframe tbody tr th {\n",
       "        vertical-align: top;\n",
       "    }\n",
       "</style>\n",
       "<table border=\"1\" class=\"dataframe\">\n",
       "  <thead>\n",
       "    <tr style=\"text-align: right;\">\n",
       "      <th></th>\n",
       "      <th>apiUrl</th>\n",
       "      <th>fields</th>\n",
       "      <th>id</th>\n",
       "      <th>isHosted</th>\n",
       "      <th>pillarId</th>\n",
       "      <th>pillarName</th>\n",
       "      <th>sectionId</th>\n",
       "      <th>sectionName</th>\n",
       "      <th>type</th>\n",
       "      <th>webPublicationDate</th>\n",
       "      <th>webTitle</th>\n",
       "      <th>webUrl</th>\n",
       "      <th>bodyText</th>\n",
       "      <th>headline</th>\n",
       "    </tr>\n",
       "  </thead>\n",
       "  <tbody>\n",
       "    <tr>\n",
       "      <th>5</th>\n",
       "      <td>https://content.guardianapis.com/business/2016...</td>\n",
       "      <td>{u'bodyText': u'All premises in England that s...</td>\n",
       "      <td>business/2016/may/02/english-businesses-should...</td>\n",
       "      <td>False</td>\n",
       "      <td>NaN</td>\n",
       "      <td>NaN</td>\n",
       "      <td>business</td>\n",
       "      <td>Business</td>\n",
       "      <td>article</td>\n",
       "      <td>2016-05-01T23:01:08Z</td>\n",
       "      <td>English businesses 'should be forced to show h...</td>\n",
       "      <td>https://www.theguardian.com/business/2016/may/...</td>\n",
       "      <td>All premises in England that sell food should ...</td>\n",
       "      <td>English businesses 'should be forced to show h...</td>\n",
       "    </tr>\n",
       "    <tr>\n",
       "      <th>6</th>\n",
       "      <td>https://content.guardianapis.com/business/2016...</td>\n",
       "      <td>{u'bodyText': u'Tips in restaurants, hotels an...</td>\n",
       "      <td>business/2016/may/02/tips-should-go-to-workers...</td>\n",
       "      <td>False</td>\n",
       "      <td>NaN</td>\n",
       "      <td>NaN</td>\n",
       "      <td>business</td>\n",
       "      <td>Business</td>\n",
       "      <td>article</td>\n",
       "      <td>2016-05-01T23:01:07Z</td>\n",
       "      <td>Tips should go to workers, not employers, says...</td>\n",
       "      <td>https://www.theguardian.com/business/2016/may/...</td>\n",
       "      <td>Tips in restaurants, hotels and bars should go...</td>\n",
       "      <td>Tips should go to workers, not employers, says...</td>\n",
       "    </tr>\n",
       "    <tr>\n",
       "      <th>14</th>\n",
       "      <td>https://content.guardianapis.com/politics/blog...</td>\n",
       "      <td>{u'bodyText': u'Election debates are more comm...</td>\n",
       "      <td>politics/blog/live/2016/may/01/scottish-electi...</td>\n",
       "      <td>False</td>\n",
       "      <td>NaN</td>\n",
       "      <td>NaN</td>\n",
       "      <td>politics</td>\n",
       "      <td>Politics</td>\n",
       "      <td>liveblog</td>\n",
       "      <td>2016-05-01T21:51:50Z</td>\n",
       "      <td>Sturgeon accused of breaking independence prom...</td>\n",
       "      <td>https://www.theguardian.com/politics/blog/live...</td>\n",
       "      <td>Election debates are more common in Holyrood p...</td>\n",
       "      <td>Sturgeon accused of breaking independence prom...</td>\n",
       "    </tr>\n",
       "    <tr>\n",
       "      <th>15</th>\n",
       "      <td>https://content.guardianapis.com/politics/2016...</td>\n",
       "      <td>{u'bodyText': u'Nicola Sturgeon has said a sec...</td>\n",
       "      <td>politics/2016/may/01/scottish-independence-vot...</td>\n",
       "      <td>False</td>\n",
       "      <td>NaN</td>\n",
       "      <td>NaN</td>\n",
       "      <td>politics</td>\n",
       "      <td>Politics</td>\n",
       "      <td>article</td>\n",
       "      <td>2016-05-01T21:40:37Z</td>\n",
       "      <td>Second Scottish independence vote not yet on t...</td>\n",
       "      <td>https://www.theguardian.com/politics/2016/may/...</td>\n",
       "      <td>Nicola Sturgeon has said a second independence...</td>\n",
       "      <td>Second Scottish independence vote not yet on t...</td>\n",
       "    </tr>\n",
       "    <tr>\n",
       "      <th>24</th>\n",
       "      <td>https://content.guardianapis.com/us-news/2016/...</td>\n",
       "      <td>{u'bodyText': u'Bernie Sanders acknowledged “a...</td>\n",
       "      <td>us-news/2016/may/01/bernie-sanders-contested-c...</td>\n",
       "      <td>False</td>\n",
       "      <td>NaN</td>\n",
       "      <td>NaN</td>\n",
       "      <td>us-news</td>\n",
       "      <td>US news</td>\n",
       "      <td>article</td>\n",
       "      <td>2016-05-01T21:16:57Z</td>\n",
       "      <td>Bernie Sanders vows a contested convention des...</td>\n",
       "      <td>https://www.theguardian.com/us-news/2016/may/0...</td>\n",
       "      <td>Bernie Sanders acknowledged “an uphill climb” ...</td>\n",
       "      <td>Bernie Sanders vows a contested convention des...</td>\n",
       "    </tr>\n",
       "  </tbody>\n",
       "</table>\n",
       "</div>"
      ],
      "text/plain": [
       "                                               apiUrl  \\\n",
       "5   https://content.guardianapis.com/business/2016...   \n",
       "6   https://content.guardianapis.com/business/2016...   \n",
       "14  https://content.guardianapis.com/politics/blog...   \n",
       "15  https://content.guardianapis.com/politics/2016...   \n",
       "24  https://content.guardianapis.com/us-news/2016/...   \n",
       "\n",
       "                                               fields  \\\n",
       "5   {u'bodyText': u'All premises in England that s...   \n",
       "6   {u'bodyText': u'Tips in restaurants, hotels an...   \n",
       "14  {u'bodyText': u'Election debates are more comm...   \n",
       "15  {u'bodyText': u'Nicola Sturgeon has said a sec...   \n",
       "24  {u'bodyText': u'Bernie Sanders acknowledged “a...   \n",
       "\n",
       "                                                   id  isHosted pillarId  \\\n",
       "5   business/2016/may/02/english-businesses-should...     False      NaN   \n",
       "6   business/2016/may/02/tips-should-go-to-workers...     False      NaN   \n",
       "14  politics/blog/live/2016/may/01/scottish-electi...     False      NaN   \n",
       "15  politics/2016/may/01/scottish-independence-vot...     False      NaN   \n",
       "24  us-news/2016/may/01/bernie-sanders-contested-c...     False      NaN   \n",
       "\n",
       "   pillarName sectionId sectionName      type    webPublicationDate  \\\n",
       "5         NaN  business    Business   article  2016-05-01T23:01:08Z   \n",
       "6         NaN  business    Business   article  2016-05-01T23:01:07Z   \n",
       "14        NaN  politics    Politics  liveblog  2016-05-01T21:51:50Z   \n",
       "15        NaN  politics    Politics   article  2016-05-01T21:40:37Z   \n",
       "24        NaN   us-news     US news   article  2016-05-01T21:16:57Z   \n",
       "\n",
       "                                             webTitle  \\\n",
       "5   English businesses 'should be forced to show h...   \n",
       "6   Tips should go to workers, not employers, says...   \n",
       "14  Sturgeon accused of breaking independence prom...   \n",
       "15  Second Scottish independence vote not yet on t...   \n",
       "24  Bernie Sanders vows a contested convention des...   \n",
       "\n",
       "                                               webUrl  \\\n",
       "5   https://www.theguardian.com/business/2016/may/...   \n",
       "6   https://www.theguardian.com/business/2016/may/...   \n",
       "14  https://www.theguardian.com/politics/blog/live...   \n",
       "15  https://www.theguardian.com/politics/2016/may/...   \n",
       "24  https://www.theguardian.com/us-news/2016/may/0...   \n",
       "\n",
       "                                             bodyText  \\\n",
       "5   All premises in England that sell food should ...   \n",
       "6   Tips in restaurants, hotels and bars should go...   \n",
       "14  Election debates are more common in Holyrood p...   \n",
       "15  Nicola Sturgeon has said a second independence...   \n",
       "24  Bernie Sanders acknowledged “an uphill climb” ...   \n",
       "\n",
       "                                             headline  \n",
       "5   English businesses 'should be forced to show h...  \n",
       "6   Tips should go to workers, not employers, says...  \n",
       "14  Sturgeon accused of breaking independence prom...  \n",
       "15  Second Scottish independence vote not yet on t...  \n",
       "24  Bernie Sanders vows a contested convention des...  "
      ]
     },
     "execution_count": 13,
     "metadata": {},
     "output_type": "execute_result"
    }
   ],
   "source": [
    "# Overview for the dataframe\n",
    "df.head()"
   ]
  },
  {
   "cell_type": "code",
   "execution_count": 14,
   "metadata": {},
   "outputs": [
    {
     "data": {
      "text/plain": [
       "(u'2016-05-01T00:54:45Z', u'2017-03-27T22:26:20Z')"
      ]
     },
     "execution_count": 14,
     "metadata": {},
     "output_type": "execute_result"
    }
   ],
   "source": [
    "# Publication data range\n",
    "df.webPublicationDate.min() ,df.webPublicationDate.max()"
   ]
  },
  {
   "cell_type": "code",
   "execution_count": 15,
   "metadata": {},
   "outputs": [
    {
     "name": "stdout",
     "output_type": "stream",
     "text": [
      "Here is the  0 th item\n",
      "Here is the  500 th item\n",
      "Here is the  1000 th item\n",
      "Here is the  1500 th item\n",
      "Here is the  2000 th item\n",
      "Here is the  2500 th item\n",
      "Here is the  3000 th item\n",
      "Here is the  3500 th item\n",
      "Here is the  4000 th item\n",
      "Here is the  4500 th item\n",
      "Here is the  5000 th item\n",
      "Here is the  5500 th item\n",
      "Here is the  6000 th item\n",
      "Here is the  6500 th item\n",
      "Here is the  7000 th item\n",
      "Here is the  7500 th item\n",
      "Here is the  8000 th item\n",
      "Here is the  8500 th item\n",
      "Here is the  9000 th item\n",
      "Here is the  9500 th item\n",
      "Here is the  10000 th item\n",
      "Here is the  10500 th item\n",
      "Here is the  11000 th item\n",
      "Here is the  11500 th item\n",
      "Here is the  12000 th item\n",
      "Here is the  12500 th item\n",
      "Here is the  13000 th item\n",
      "Here is the  13500 th item\n",
      "Here is the  14000 th item\n",
      "Here is the  14500 th item\n",
      "Here is the  15000 th item\n",
      "Here is the  15500 th item\n",
      "Here is the  16000 th item\n",
      "Here is the  16500 th item\n",
      "Here is the  17000 th item\n",
      "Here is the  17500 th item\n",
      "Here is the  18000 th item\n",
      "Here is the  18500 th item\n",
      "Here is the  19000 th item\n",
      "Here is the  19500 th item\n"
     ]
    }
   ],
   "source": [
    "for idx,item in enumerate(df.bodyText):\n",
    "    df.bodyText[idx] = re.sub('[^\\x00-\\x7F]+', \"\", item)\n",
    "    if idx%500 == 0:\n",
    "        print 'Here is the ',idx,'th item'"
   ]
  },
  {
   "cell_type": "code",
   "execution_count": 16,
   "metadata": {},
   "outputs": [
    {
     "name": "stdout",
     "output_type": "stream",
     "text": [
      "Here is the  0 th item\n",
      "Here is the  500 th item\n",
      "Here is the  1000 th item\n",
      "Here is the  1500 th item\n",
      "Here is the  2000 th item\n",
      "Here is the  2500 th item\n",
      "Here is the  3000 th item\n",
      "Here is the  3500 th item\n",
      "Here is the  4000 th item\n",
      "Here is the  4500 th item\n",
      "Here is the  5000 th item\n",
      "Here is the  5500 th item\n",
      "Here is the  6000 th item\n",
      "Here is the  6500 th item\n",
      "Here is the  7000 th item\n",
      "Here is the  7500 th item\n",
      "Here is the  8000 th item\n",
      "Here is the  8500 th item\n",
      "Here is the  9000 th item\n",
      "Here is the  9500 th item\n",
      "Here is the  10000 th item\n",
      "Here is the  10500 th item\n",
      "Here is the  11000 th item\n",
      "Here is the  11500 th item\n",
      "Here is the  12000 th item\n",
      "Here is the  12500 th item\n",
      "Here is the  13000 th item\n",
      "Here is the  13500 th item\n",
      "Here is the  14000 th item\n",
      "Here is the  14500 th item\n",
      "Here is the  15000 th item\n",
      "Here is the  15500 th item\n",
      "Here is the  16000 th item\n",
      "Here is the  16500 th item\n",
      "Here is the  17000 th item\n",
      "Here is the  17500 th item\n",
      "Here is the  18000 th item\n",
      "Here is the  18500 th item\n",
      "Here is the  19000 th item\n",
      "Here is the  19500 th item\n"
     ]
    }
   ],
   "source": [
    "for idx,item in enumerate(df.headline):\n",
    "    df.headline[idx] = re.sub('[^\\x00-\\x7F]+', \"\", item)\n",
    "    if idx%500 == 0:\n",
    "        print 'Here is the ',idx,'th item'"
   ]
  },
  {
   "cell_type": "code",
   "execution_count": 26,
   "metadata": {
    "scrolled": true
   },
   "outputs": [
    {
     "name": "stdout",
     "output_type": "stream",
     "text": [
      "Here is the  0 th item\n"
     ]
    }
   ],
   "source": [
    "for idx, item in enumerate(df.bodyText):\n",
    "    df.bodyText[idx] = re.sub('(\\\\n)',\"\",item)\n",
    "    if idx%500 == 0:\n",
    "        print 'Here is the ',idx,'th item'"
   ]
  },
  {
   "cell_type": "code",
   "execution_count": 27,
   "metadata": {
    "scrolled": true
   },
   "outputs": [
    {
     "name": "stdout",
     "output_type": "stream",
     "text": [
      "Here is the  0 th item\n"
     ]
    }
   ],
   "source": [
    "for idx, item in enumerate(df.headline):\n",
    "    df.headline[idx] = re.sub('(\\\\n)',\"\",item)\n",
    "    if idx%500 == 0:\n",
    "        print 'Here is the ',idx,'th item'"
   ]
  },
  {
   "cell_type": "code",
   "execution_count": 38,
   "metadata": {},
   "outputs": [
    {
     "name": "stdout",
     "output_type": "stream",
     "text": [
      "<class 'pandas.core.frame.DataFrame'>\n",
      "Int64Index: 180 entries, 5 to 890\n",
      "Data columns (total 14 columns):\n",
      "apiUrl                180 non-null object\n",
      "fields                180 non-null object\n",
      "id                    180 non-null object\n",
      "isHosted              180 non-null bool\n",
      "pillarId              0 non-null object\n",
      "pillarName            0 non-null object\n",
      "sectionId             180 non-null object\n",
      "sectionName           180 non-null object\n",
      "type                  180 non-null object\n",
      "webPublicationDate    180 non-null object\n",
      "webTitle              180 non-null object\n",
      "webUrl                180 non-null object\n",
      "bodyText              180 non-null object\n",
      "headline              180 non-null object\n",
      "dtypes: bool(1), object(13)\n",
      "memory usage: 28.7+ KB\n",
      "None\n"
     ]
    }
   ],
   "source": [
    "print df.info()"
   ]
  },
  {
   "cell_type": "code",
   "execution_count": 40,
   "metadata": {},
   "outputs": [
    {
     "name": "stdout",
     "output_type": "stream",
     "text": [
      "Ted Cruz rails against Trump-Clinton 'cartel' in final push ahead of Indiana\n"
     ]
    }
   ],
   "source": [
    "print df[u'headline'][0]"
   ]
  },
  {
   "cell_type": "code",
   "execution_count": null,
   "metadata": {
    "collapsed": true
   },
   "outputs": [],
   "source": [
    "df = df[[u'headline',u'bodyText']]"
   ]
  },
  {
   "cell_type": "code",
   "execution_count": 28,
   "metadata": {
    "collapsed": true
   },
   "outputs": [],
   "source": [
    "# Saving the cleaned data into csv file\n",
    "df.to_csv(\"/home/dk/Downloads/3-1 BITS/Acads/Resources/Information Retrieval/Assignment/our_code/Data/Clean_TheGuardian_Combined_No_Slash.csv\",encoding='utf-8')"
   ]
  },
  {
   "cell_type": "code",
   "execution_count": 29,
   "metadata": {
    "collapsed": true
   },
   "outputs": [],
   "source": [
    "# Reading the cleaned data into data frame\n",
    "df_test = pd.read_csv(\"/home/dk/Downloads/3-1 BITS/Acads/Resources/Information Retrieval/Assignment/our_code/Data/Clean_TheGuardian_Combined_No_Slash.csv\")"
   ]
  },
  {
   "cell_type": "code",
   "execution_count": 30,
   "metadata": {},
   "outputs": [
    {
     "name": "stdout",
     "output_type": "stream",
     "text": [
      "<class 'pandas.core.frame.DataFrame'>\n",
      "RangeIndex: 180 entries, 0 to 179\n",
      "Data columns (total 15 columns):\n",
      "Unnamed: 0            180 non-null int64\n",
      "apiUrl                180 non-null object\n",
      "fields                180 non-null object\n",
      "id                    180 non-null object\n",
      "isHosted              180 non-null bool\n",
      "pillarId              0 non-null float64\n",
      "pillarName            0 non-null float64\n",
      "sectionId             180 non-null object\n",
      "sectionName           180 non-null object\n",
      "type                  180 non-null object\n",
      "webPublicationDate    180 non-null object\n",
      "webTitle              180 non-null object\n",
      "webUrl                180 non-null object\n",
      "bodyText              180 non-null object\n",
      "headline              180 non-null object\n",
      "dtypes: bool(1), float64(2), int64(1), object(11)\n",
      "memory usage: 19.9+ KB\n"
     ]
    }
   ],
   "source": [
    "df_test.info()"
   ]
  },
  {
   "cell_type": "code",
   "execution_count": 37,
   "metadata": {},
   "outputs": [
    {
     "name": "stdout",
     "output_type": "stream",
     "text": [
      "business/2016/may/02/english-businesses-should-be-forced-to-show-hygiene-scores\n"
     ]
    }
   ],
   "source": [
    "print df_test[u'id'][0]"
   ]
  },
  {
   "cell_type": "code",
   "execution_count": 144,
   "metadata": {
    "collapsed": true
   },
   "outputs": [],
   "source": [
    "sum_ = 0\n",
    "max_ = 0\n",
    "min_ = 9999\n",
    "for item in df.bodyText:\n",
    "    sum_+=len(item)\n",
    "    if len(item)>max_:\n",
    "        max_ = len(item)\n",
    "    if len(item)<min:\n",
    "        min_ = len(item)"
   ]
  },
  {
   "cell_type": "code",
   "execution_count": 145,
   "metadata": {},
   "outputs": [
    {
     "name": "stdout",
     "output_type": "stream",
     "text": [
      "Min number of word count 955 \n",
      "Max number of word count 53609 \n",
      "Total number of word count 2142378\n"
     ]
    }
   ],
   "source": [
    "print \"Min number of word count\",min_ ,\"\\nMax number of word count\",max_,\"\\nTotal number of word count\", sum_"
   ]
  },
  {
   "cell_type": "markdown",
   "metadata": {},
   "source": [
    "# Word Clound From The Guardian Dataset\n",
    "\n",
    "<img src='TGuard_WordCloud.jpg'>"
   ]
  },
  {
   "cell_type": "code",
   "execution_count": null,
   "metadata": {
    "collapsed": true
   },
   "outputs": [],
   "source": []
  }
 ],
 "metadata": {
  "anaconda-cloud": {},
  "kernelspec": {
   "display_name": "Python 2",
   "language": "python",
   "name": "python2"
  },
  "language_info": {
   "codemirror_mode": {
    "name": "ipython",
    "version": 2
   },
   "file_extension": ".py",
   "mimetype": "text/x-python",
   "name": "python",
   "nbconvert_exporter": "python",
   "pygments_lexer": "ipython2",
   "version": "2.7.14"
  }
 },
 "nbformat": 4,
 "nbformat_minor": 1
}

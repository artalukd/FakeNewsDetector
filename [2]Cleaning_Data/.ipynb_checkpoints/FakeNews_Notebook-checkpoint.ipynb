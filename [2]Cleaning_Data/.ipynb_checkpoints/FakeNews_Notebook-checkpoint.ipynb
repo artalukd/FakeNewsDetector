{
 "cells": [
  {
   "cell_type": "code",
   "execution_count": 51,
   "metadata": {
    "collapsed": true
   },
   "outputs": [],
   "source": [
    "import pandas as pd\n",
    "import numpy as np\n",
    "import matplotlib.pyplot as plt\n",
    "import re\n",
    "import seaborn as sb\n",
    "%matplotlib inline\n",
    "%config InlineBackend.figure_format = 'retina'"
   ]
  },
  {
   "cell_type": "code",
   "execution_count": 52,
   "metadata": {
    "collapsed": true
   },
   "outputs": [],
   "source": [
    "df  = pd.read_csv(\"/home/dk/Downloads/3-1 BITS/Acads/Resources/Information Retrieval/Assignment/our_code/[2]Cleaning_Data/fake.csv\")"
   ]
  },
  {
   "cell_type": "code",
   "execution_count": 53,
   "metadata": {},
   "outputs": [
    {
     "name": "stdout",
     "output_type": "stream",
     "text": [
      "<class 'pandas.core.frame.DataFrame'>\n",
      "RangeIndex: 12999 entries, 0 to 12998\n",
      "Data columns (total 20 columns):\n",
      "uuid                  12999 non-null object\n",
      "ord_in_thread         12999 non-null int64\n",
      "author                10575 non-null object\n",
      "published             12999 non-null object\n",
      "title                 12319 non-null object\n",
      "text                  12953 non-null object\n",
      "language              12999 non-null object\n",
      "crawled               12999 non-null object\n",
      "site_url              12999 non-null object\n",
      "country               12823 non-null object\n",
      "domain_rank           8776 non-null float64\n",
      "thread_title          12987 non-null object\n",
      "spam_score            12999 non-null float64\n",
      "main_img_url          9356 non-null object\n",
      "replies_count         12999 non-null int64\n",
      "participants_count    12999 non-null int64\n",
      "likes                 12999 non-null int64\n",
      "comments              12999 non-null int64\n",
      "shares                12999 non-null int64\n",
      "type                  12999 non-null object\n",
      "dtypes: float64(2), int64(6), object(12)\n",
      "memory usage: 2.0+ MB\n"
     ]
    }
   ],
   "source": [
    "df.info()"
   ]
  },
  {
   "cell_type": "code",
   "execution_count": 54,
   "metadata": {},
   "outputs": [
    {
     "data": {
      "text/html": [
       "<div>\n",
       "<style>\n",
       "    .dataframe thead tr:only-child th {\n",
       "        text-align: right;\n",
       "    }\n",
       "\n",
       "    .dataframe thead th {\n",
       "        text-align: left;\n",
       "    }\n",
       "\n",
       "    .dataframe tbody tr th {\n",
       "        vertical-align: top;\n",
       "    }\n",
       "</style>\n",
       "<table border=\"1\" class=\"dataframe\">\n",
       "  <thead>\n",
       "    <tr style=\"text-align: right;\">\n",
       "      <th></th>\n",
       "      <th>uuid</th>\n",
       "      <th>ord_in_thread</th>\n",
       "      <th>author</th>\n",
       "      <th>published</th>\n",
       "      <th>title</th>\n",
       "      <th>text</th>\n",
       "      <th>language</th>\n",
       "      <th>crawled</th>\n",
       "      <th>site_url</th>\n",
       "      <th>country</th>\n",
       "      <th>domain_rank</th>\n",
       "      <th>thread_title</th>\n",
       "      <th>spam_score</th>\n",
       "      <th>main_img_url</th>\n",
       "      <th>replies_count</th>\n",
       "      <th>participants_count</th>\n",
       "      <th>likes</th>\n",
       "      <th>comments</th>\n",
       "      <th>shares</th>\n",
       "      <th>type</th>\n",
       "    </tr>\n",
       "  </thead>\n",
       "  <tbody>\n",
       "    <tr>\n",
       "      <th>0</th>\n",
       "      <td>6a175f46bcd24d39b3e962ad0f29936721db70db</td>\n",
       "      <td>0</td>\n",
       "      <td>Barracuda Brigade</td>\n",
       "      <td>2016-10-26T21:41:00.000+03:00</td>\n",
       "      <td>Muslims BUSTED: They Stole Millions In Gov’t B...</td>\n",
       "      <td>Print They should pay all the back all the mon...</td>\n",
       "      <td>english</td>\n",
       "      <td>2016-10-27T01:49:27.168+03:00</td>\n",
       "      <td>100percentfedup.com</td>\n",
       "      <td>US</td>\n",
       "      <td>25689.0</td>\n",
       "      <td>Muslims BUSTED: They Stole Millions In Gov’t B...</td>\n",
       "      <td>0.000</td>\n",
       "      <td>http://bb4sp.com/wp-content/uploads/2016/10/Fu...</td>\n",
       "      <td>0</td>\n",
       "      <td>1</td>\n",
       "      <td>0</td>\n",
       "      <td>0</td>\n",
       "      <td>0</td>\n",
       "      <td>bias</td>\n",
       "    </tr>\n",
       "    <tr>\n",
       "      <th>1</th>\n",
       "      <td>2bdc29d12605ef9cf3f09f9875040a7113be5d5b</td>\n",
       "      <td>0</td>\n",
       "      <td>reasoning with facts</td>\n",
       "      <td>2016-10-29T08:47:11.259+03:00</td>\n",
       "      <td>Re: Why Did Attorney General Loretta Lynch Ple...</td>\n",
       "      <td>Why Did Attorney General Loretta Lynch Plead T...</td>\n",
       "      <td>english</td>\n",
       "      <td>2016-10-29T08:47:11.259+03:00</td>\n",
       "      <td>100percentfedup.com</td>\n",
       "      <td>US</td>\n",
       "      <td>25689.0</td>\n",
       "      <td>Re: Why Did Attorney General Loretta Lynch Ple...</td>\n",
       "      <td>0.000</td>\n",
       "      <td>http://bb4sp.com/wp-content/uploads/2016/10/Fu...</td>\n",
       "      <td>0</td>\n",
       "      <td>1</td>\n",
       "      <td>0</td>\n",
       "      <td>0</td>\n",
       "      <td>0</td>\n",
       "      <td>bias</td>\n",
       "    </tr>\n",
       "    <tr>\n",
       "      <th>2</th>\n",
       "      <td>c70e149fdd53de5e61c29281100b9de0ed268bc3</td>\n",
       "      <td>0</td>\n",
       "      <td>Barracuda Brigade</td>\n",
       "      <td>2016-10-31T01:41:49.479+02:00</td>\n",
       "      <td>BREAKING: Weiner Cooperating With FBI On Hilla...</td>\n",
       "      <td>Red State : \\nFox News Sunday reported this mo...</td>\n",
       "      <td>english</td>\n",
       "      <td>2016-10-31T01:41:49.479+02:00</td>\n",
       "      <td>100percentfedup.com</td>\n",
       "      <td>US</td>\n",
       "      <td>25689.0</td>\n",
       "      <td>BREAKING: Weiner Cooperating With FBI On Hilla...</td>\n",
       "      <td>0.000</td>\n",
       "      <td>http://bb4sp.com/wp-content/uploads/2016/10/Fu...</td>\n",
       "      <td>0</td>\n",
       "      <td>1</td>\n",
       "      <td>0</td>\n",
       "      <td>0</td>\n",
       "      <td>0</td>\n",
       "      <td>bias</td>\n",
       "    </tr>\n",
       "    <tr>\n",
       "      <th>3</th>\n",
       "      <td>7cf7c15731ac2a116dd7f629bd57ea468ed70284</td>\n",
       "      <td>0</td>\n",
       "      <td>Fed Up</td>\n",
       "      <td>2016-11-01T05:22:00.000+02:00</td>\n",
       "      <td>PIN DROP SPEECH BY FATHER OF DAUGHTER Kidnappe...</td>\n",
       "      <td>Email Kayla Mueller was a prisoner and torture...</td>\n",
       "      <td>english</td>\n",
       "      <td>2016-11-01T15:46:26.304+02:00</td>\n",
       "      <td>100percentfedup.com</td>\n",
       "      <td>US</td>\n",
       "      <td>25689.0</td>\n",
       "      <td>PIN DROP SPEECH BY FATHER OF DAUGHTER Kidnappe...</td>\n",
       "      <td>0.068</td>\n",
       "      <td>http://100percentfedup.com/wp-content/uploads/...</td>\n",
       "      <td>0</td>\n",
       "      <td>0</td>\n",
       "      <td>0</td>\n",
       "      <td>0</td>\n",
       "      <td>0</td>\n",
       "      <td>bias</td>\n",
       "    </tr>\n",
       "    <tr>\n",
       "      <th>4</th>\n",
       "      <td>0206b54719c7e241ffe0ad4315b808290dbe6c0f</td>\n",
       "      <td>0</td>\n",
       "      <td>Fed Up</td>\n",
       "      <td>2016-11-01T21:56:00.000+02:00</td>\n",
       "      <td>FANTASTIC! TRUMP'S 7 POINT PLAN To Reform Heal...</td>\n",
       "      <td>Email HEALTHCARE REFORM TO MAKE AMERICA GREAT ...</td>\n",
       "      <td>english</td>\n",
       "      <td>2016-11-01T23:59:42.266+02:00</td>\n",
       "      <td>100percentfedup.com</td>\n",
       "      <td>US</td>\n",
       "      <td>25689.0</td>\n",
       "      <td>FANTASTIC! TRUMP'S 7 POINT PLAN To Reform Heal...</td>\n",
       "      <td>0.865</td>\n",
       "      <td>http://100percentfedup.com/wp-content/uploads/...</td>\n",
       "      <td>0</td>\n",
       "      <td>0</td>\n",
       "      <td>0</td>\n",
       "      <td>0</td>\n",
       "      <td>0</td>\n",
       "      <td>bias</td>\n",
       "    </tr>\n",
       "  </tbody>\n",
       "</table>\n",
       "</div>"
      ],
      "text/plain": [
       "                                       uuid  ord_in_thread  \\\n",
       "0  6a175f46bcd24d39b3e962ad0f29936721db70db              0   \n",
       "1  2bdc29d12605ef9cf3f09f9875040a7113be5d5b              0   \n",
       "2  c70e149fdd53de5e61c29281100b9de0ed268bc3              0   \n",
       "3  7cf7c15731ac2a116dd7f629bd57ea468ed70284              0   \n",
       "4  0206b54719c7e241ffe0ad4315b808290dbe6c0f              0   \n",
       "\n",
       "                 author                      published  \\\n",
       "0     Barracuda Brigade  2016-10-26T21:41:00.000+03:00   \n",
       "1  reasoning with facts  2016-10-29T08:47:11.259+03:00   \n",
       "2     Barracuda Brigade  2016-10-31T01:41:49.479+02:00   \n",
       "3                Fed Up  2016-11-01T05:22:00.000+02:00   \n",
       "4                Fed Up  2016-11-01T21:56:00.000+02:00   \n",
       "\n",
       "                                               title  \\\n",
       "0  Muslims BUSTED: They Stole Millions In Gov’t B...   \n",
       "1  Re: Why Did Attorney General Loretta Lynch Ple...   \n",
       "2  BREAKING: Weiner Cooperating With FBI On Hilla...   \n",
       "3  PIN DROP SPEECH BY FATHER OF DAUGHTER Kidnappe...   \n",
       "4  FANTASTIC! TRUMP'S 7 POINT PLAN To Reform Heal...   \n",
       "\n",
       "                                                text language  \\\n",
       "0  Print They should pay all the back all the mon...  english   \n",
       "1  Why Did Attorney General Loretta Lynch Plead T...  english   \n",
       "2  Red State : \\nFox News Sunday reported this mo...  english   \n",
       "3  Email Kayla Mueller was a prisoner and torture...  english   \n",
       "4  Email HEALTHCARE REFORM TO MAKE AMERICA GREAT ...  english   \n",
       "\n",
       "                         crawled             site_url country  domain_rank  \\\n",
       "0  2016-10-27T01:49:27.168+03:00  100percentfedup.com      US      25689.0   \n",
       "1  2016-10-29T08:47:11.259+03:00  100percentfedup.com      US      25689.0   \n",
       "2  2016-10-31T01:41:49.479+02:00  100percentfedup.com      US      25689.0   \n",
       "3  2016-11-01T15:46:26.304+02:00  100percentfedup.com      US      25689.0   \n",
       "4  2016-11-01T23:59:42.266+02:00  100percentfedup.com      US      25689.0   \n",
       "\n",
       "                                        thread_title  spam_score  \\\n",
       "0  Muslims BUSTED: They Stole Millions In Gov’t B...       0.000   \n",
       "1  Re: Why Did Attorney General Loretta Lynch Ple...       0.000   \n",
       "2  BREAKING: Weiner Cooperating With FBI On Hilla...       0.000   \n",
       "3  PIN DROP SPEECH BY FATHER OF DAUGHTER Kidnappe...       0.068   \n",
       "4  FANTASTIC! TRUMP'S 7 POINT PLAN To Reform Heal...       0.865   \n",
       "\n",
       "                                        main_img_url  replies_count  \\\n",
       "0  http://bb4sp.com/wp-content/uploads/2016/10/Fu...              0   \n",
       "1  http://bb4sp.com/wp-content/uploads/2016/10/Fu...              0   \n",
       "2  http://bb4sp.com/wp-content/uploads/2016/10/Fu...              0   \n",
       "3  http://100percentfedup.com/wp-content/uploads/...              0   \n",
       "4  http://100percentfedup.com/wp-content/uploads/...              0   \n",
       "\n",
       "   participants_count  likes  comments  shares  type  \n",
       "0                   1      0         0       0  bias  \n",
       "1                   1      0         0       0  bias  \n",
       "2                   1      0         0       0  bias  \n",
       "3                   0      0         0       0  bias  \n",
       "4                   0      0         0       0  bias  "
      ]
     },
     "execution_count": 54,
     "metadata": {},
     "output_type": "execute_result"
    }
   ],
   "source": [
    "df.head()"
   ]
  },
  {
   "cell_type": "code",
   "execution_count": 55,
   "metadata": {},
   "outputs": [
    {
     "data": {
      "text/plain": [
       "array(['english', 'ignore', 'german', 'french', 'spanish', 'russian',\n",
       "       'greek', 'finnish', 'portuguese', 'arabic', 'dutch', 'italian',\n",
       "       'turkish', 'norwegian', 'chinese', 'polish'], dtype=object)"
      ]
     },
     "execution_count": 55,
     "metadata": {},
     "output_type": "execute_result"
    }
   ],
   "source": [
    "df.language.unique()"
   ]
  },
  {
   "cell_type": "code",
   "execution_count": 56,
   "metadata": {
    "collapsed": true
   },
   "outputs": [],
   "source": [
    "# Getting only english articles\n",
    "df = df[df['language'] == 'english']"
   ]
  },
  {
   "cell_type": "code",
   "execution_count": 58,
   "metadata": {
    "collapsed": true
   },
   "outputs": [],
   "source": [
    "US_corpus = df.text.values"
   ]
  },
  {
   "cell_type": "code",
   "execution_count": 59,
   "metadata": {},
   "outputs": [
    {
     "data": {
      "text/plain": [
       "(12403, 20)"
      ]
     },
     "execution_count": 59,
     "metadata": {},
     "output_type": "execute_result"
    }
   ],
   "source": [
    "df.shape"
   ]
  },
  {
   "cell_type": "code",
   "execution_count": 60,
   "metadata": {},
   "outputs": [
    {
     "name": "stdout",
     "output_type": "stream",
     "text": [
      "Here is the  "
     ]
    },
    {
     "name": "stderr",
     "output_type": "stream",
     "text": [
      "/home/dk/anaconda2/lib/python2.7/site-packages/ipykernel_launcher.py:7: SettingWithCopyWarning: \n",
      "A value is trying to be set on a copy of a slice from a DataFrame\n",
      "\n",
      "See the caveats in the documentation: http://pandas.pydata.org/pandas-docs/stable/indexing.html#indexing-view-versus-copy\n",
      "  import sys\n"
     ]
    },
    {
     "name": "stdout",
     "output_type": "stream",
     "text": [
      "0 th item\n",
      "Here is the  500 th item\n",
      "Here is the  1000 th item\n",
      "Here is the  1500 th item\n",
      "Here is the  2000 th item\n",
      "Here is the  2500 th item\n",
      "Here is the  3000 th item\n",
      "Here is the  3500 th item\n",
      "Here is the  4000 th item\n",
      "Here is the  4500 th item\n",
      "Here is the  5000 th item\n",
      "Here is the  5500 th item\n",
      "Here is the  6000 th item\n",
      "Here is the  6500 th item\n",
      "Here is the  7000 th item\n",
      "Here is the  7500 th item\n",
      "Here is the  8000 th item\n",
      "Here is the  8500 th item\n",
      "Here is the  9000 th item\n",
      "Here is the  9500 th item\n",
      "Here is the  10000 th item\n",
      "Here is the  10500 th item\n",
      "Here is the  11000 th item\n",
      "Here is the  11500 th item\n",
      "Here is the  12000 th item\n",
      "Here is the  "
     ]
    },
    {
     "name": "stderr",
     "output_type": "stream",
     "text": [
      "/home/dk/anaconda2/lib/python2.7/site-packages/ipykernel_launcher.py:19: SettingWithCopyWarning: \n",
      "A value is trying to be set on a copy of a slice from a DataFrame\n",
      "\n",
      "See the caveats in the documentation: http://pandas.pydata.org/pandas-docs/stable/indexing.html#indexing-view-versus-copy\n",
      "/home/dk/anaconda2/lib/python2.7/site-packages/ipykernel_launcher.py:21: SettingWithCopyWarning: \n",
      "A value is trying to be set on a copy of a slice from a DataFrame\n",
      "\n",
      "See the caveats in the documentation: http://pandas.pydata.org/pandas-docs/stable/indexing.html#indexing-view-versus-copy\n"
     ]
    },
    {
     "name": "stdout",
     "output_type": "stream",
     "text": [
      "0 th item\n",
      "Here is the  500 th item\n",
      "Here is the  1000 th item\n",
      "Here is the  1500 th item\n",
      "Here is the  2000 th item\n",
      "Here is the  2500 th item\n",
      "Here is the  3000 th item\n",
      "Here is the  3500 th item\n",
      "Here is the  4000 th item\n",
      "Here is the  4500 th item\n",
      "Here is the  5000 th item\n",
      "Here is the  5500 th item\n",
      "Here is the  6000 th item\n",
      "Here is the  6500 th item\n",
      "Here is the  7000 th item\n",
      "Here is the  7500 th item\n",
      "Here is the  8000 th item\n",
      "Here is the  8500 th item\n",
      "Here is the  9000 th item\n",
      "Here is the  9500 th item\n",
      "Here is the  10000 th item\n",
      "Here is the  10500 th item\n",
      "Here is the  11000 th item\n",
      "Here is the  11500 th item\n",
      "Here is the  12000 th item\n"
     ]
    }
   ],
   "source": [
    "# Replacing empty articles with \"Dummy_text and Dummy_Title\"\n",
    "wrong_text = []\n",
    "wrong_title = []\n",
    "for idx, item in enumerate(df.text):\n",
    "    \n",
    "    try:\n",
    "        df.text[idx] = re.sub('[^\\x00-\\x7F]+', \"\", item)\n",
    "    except:\n",
    "        df.text[idx] = 'Dummy_Text'\n",
    "        wrong_text.append((idx,item))\n",
    "    \n",
    "    if idx%500 == 0:\n",
    "        print 'Here is the ',idx,'th item'\n",
    "        \n",
    "        \n",
    "for idx,item in enumerate(df.title):\n",
    "    \n",
    "    try:\n",
    "        df.title[idx] = re.sub('[^\\x00-\\x7F]+', \"\", item)\n",
    "    except:\n",
    "        df.title[idx] = 'Dummy_Title'\n",
    "        wrong_title.append((idx,item))\n",
    "    if idx%500 == 0:\n",
    "        print 'Here is the ',idx,'th item'"
   ]
  },
  {
   "cell_type": "code",
   "execution_count": 61,
   "metadata": {},
   "outputs": [
    {
     "name": "stdout",
     "output_type": "stream",
     "text": [
      "Here is the  0 th item\n",
      "Here is the  500 th item\n",
      "Here is the  1000 th item\n",
      "Here is the  1500 th item\n",
      "Here is the  2000 th item\n",
      "Here is the  2500 th item\n",
      "Here is the  3000 th item\n",
      "Here is the  3500 th item\n",
      "Here is the  4000 th item\n",
      "Here is the  4500 th item\n",
      "Here is the  5000 th item\n",
      "Here is the  5500 th item\n",
      "Here is the  6000 th item\n",
      "Here is the  6500 th item\n",
      "Here is the  7000 th item\n",
      "Here is the  7500 th item\n",
      "Here is the  8000 th item\n",
      "Here is the  8500 th item\n",
      "Here is the  9000 th item\n",
      "Here is the  9500 th item\n",
      "Here is the  10000 th item\n",
      "Here is the  10500 th item\n",
      "Here is the  11000 th item\n",
      "Here is the  11500 th item\n",
      "Here is the  12000 th item\n",
      "Here is the  12500 th item\n",
      "Here is the  0 th item\n",
      "Here is the  500 th item\n",
      "Here is the  1000 th item\n",
      "Here is the  1500 th item\n",
      "Here is the  2000 th item\n",
      "Here is the  2500 th item\n",
      "Here is the  3000 th item\n",
      "Here is the  3500 th item\n",
      "Here is the  4000 th item\n",
      "Here is the  4500 th item\n",
      "Here is the  5000 th item\n",
      "Here is the  5500 th item\n",
      "Here is the  6000 th item\n",
      "Here is the  6500 th item\n",
      "Here is the  7000 th item\n",
      "Here is the  7500 th item\n",
      "Here is the  8000 th item\n",
      "Here is the  8500 th item\n",
      "Here is the  9000 th item\n",
      "Here is the  9500 th item\n",
      "Here is the  10000 th item\n",
      "Here is the  10500 th item\n",
      "Here is the  11000 th item\n",
      "Here is the  11500 th item\n",
      "Here is the  12000 th item\n",
      "Here is the  12500 th item\n"
     ]
    }
   ],
   "source": [
    "slash_text = []\n",
    "slash_title = []\n",
    "for idx, item in enumerate(df.text):\n",
    "    \n",
    "    try:\n",
    "        df.text[idx] = re.sub('(\\\\n)',\"\",item)\n",
    "    except:\n",
    "        df.text[idx] = 'Dummy_Text'\n",
    "        wrong_text.append((idx,item))\n",
    "    \n",
    "    if idx%500 == 0:\n",
    "        print 'Here is the ',idx,'th item'\n",
    "        \n",
    "        \n",
    "for idx, item in enumerate(df.title):\n",
    "    \n",
    "    try:\n",
    "        df.title[idx] = re.sub('(\\\\n)',\"\",item)\n",
    "\n",
    "    except:\n",
    "        df.title[idx] = 'Dummy_Title'\n",
    "        wrong_title.append((idx,item))\n",
    "    if idx%500 == 0:\n",
    "        print 'Here is the ',idx,'th item'"
   ]
  },
  {
   "cell_type": "code",
   "execution_count": 62,
   "metadata": {},
   "outputs": [
    {
     "name": "stdout",
     "output_type": "stream",
     "text": [
      "<class 'pandas.core.frame.DataFrame'>\n",
      "Int64Index: 12403 entries, 0 to 12998\n",
      "Data columns (total 20 columns):\n",
      "uuid                  12403 non-null object\n",
      "ord_in_thread         12403 non-null int64\n",
      "author                10194 non-null object\n",
      "published             12403 non-null object\n",
      "title                 12073 non-null object\n",
      "text                  12357 non-null object\n",
      "language              12403 non-null object\n",
      "crawled               12403 non-null object\n",
      "site_url              12403 non-null object\n",
      "country               12227 non-null object\n",
      "domain_rank           8228 non-null float64\n",
      "thread_title          12391 non-null object\n",
      "spam_score            12403 non-null float64\n",
      "main_img_url          8779 non-null object\n",
      "replies_count         12403 non-null int64\n",
      "participants_count    12403 non-null int64\n",
      "likes                 12403 non-null int64\n",
      "comments              12403 non-null int64\n",
      "shares                12403 non-null int64\n",
      "type                  12403 non-null object\n",
      "dtypes: float64(2), int64(6), object(12)\n",
      "memory usage: 2.3+ MB\n"
     ]
    }
   ],
   "source": [
    "df.info()"
   ]
  },
  {
   "cell_type": "code",
   "execution_count": 63,
   "metadata": {
    "collapsed": true
   },
   "outputs": [],
   "source": [
    "df.dropna(inplace=True)"
   ]
  },
  {
   "cell_type": "code",
   "execution_count": 64,
   "metadata": {},
   "outputs": [
    {
     "name": "stdout",
     "output_type": "stream",
     "text": [
      "<class 'pandas.core.frame.DataFrame'>\n",
      "Int64Index: 4605 entries, 0 to 12898\n",
      "Data columns (total 20 columns):\n",
      "uuid                  4605 non-null object\n",
      "ord_in_thread         4605 non-null int64\n",
      "author                4605 non-null object\n",
      "published             4605 non-null object\n",
      "title                 4605 non-null object\n",
      "text                  4605 non-null object\n",
      "language              4605 non-null object\n",
      "crawled               4605 non-null object\n",
      "site_url              4605 non-null object\n",
      "country               4605 non-null object\n",
      "domain_rank           4605 non-null float64\n",
      "thread_title          4605 non-null object\n",
      "spam_score            4605 non-null float64\n",
      "main_img_url          4605 non-null object\n",
      "replies_count         4605 non-null int64\n",
      "participants_count    4605 non-null int64\n",
      "likes                 4605 non-null int64\n",
      "comments              4605 non-null int64\n",
      "shares                4605 non-null int64\n",
      "type                  4605 non-null object\n",
      "dtypes: float64(2), int64(6), object(12)\n",
      "memory usage: 755.5+ KB\n"
     ]
    }
   ],
   "source": [
    "df.info()"
   ]
  },
  {
   "cell_type": "code",
   "execution_count": 65,
   "metadata": {},
   "outputs": [
    {
     "name": "stdout",
     "output_type": "stream",
     "text": [
      "<class 'pandas.core.frame.DataFrame'>\n",
      "Int64Index: 4328 entries, 57 to 12898\n",
      "Data columns (total 3 columns):\n",
      "title    4328 non-null object\n",
      "text     4328 non-null object\n",
      "label    4328 non-null object\n",
      "dtypes: object(3)\n",
      "memory usage: 135.2+ KB\n",
      "None\n",
      "                                                 title  \\\n",
      "57   The Amish In America Commit Their Vote To Dona...   \n",
      "58   Obama Signs Executive Order Declaring Investig...   \n",
      "159  The words Extraordinary Claims needs to be ban...   \n",
      "160                                  We Know The Truth   \n",
      "161    UFO over the East Valley here in AZ last night.   \n",
      "\n",
      "                                                  text label  \n",
      "57   18 SHARE The Amish in America have committed t...  FAKE  \n",
      "58   64 SHARE President Obama has signed an Executi...  FAKE  \n",
      "159  The words Extraordinary Claims needs to be ban...  FAKE  \n",
      "160  link Hey People: I always enjoy your threads, ...  FAKE  \n",
      "161  UFO over the East Valley here in AZ last night...  FAKE  \n"
     ]
    }
   ],
   "source": [
    "df = df[(df.type == 'bs') | (df.type == 'conspiracy') | (df.type == 'satire') | (df.type == 'hate') | (df.type == 'fake') | (df.type == 'junksci')]\n",
    "df = df[[u'title',u'text']]\n",
    "sLength = len(df[u'title'])\n",
    "df[u'label'] = pd.Series(['FAKE' for _ in range(sLength)],index = df.index)\n",
    "\n",
    "print df.info()\n",
    "print df.head()"
   ]
  },
  {
   "cell_type": "code",
   "execution_count": 66,
   "metadata": {
    "collapsed": true
   },
   "outputs": [],
   "source": [
    "df.to_csv(\"/home/dk/Downloads/3-1 BITS/Acads/Resources/Information Retrieval/Assignment/our_code/[2]Cleaning_Data/clean_fake_news/clean_data_fake_news.csv\",index=False)"
   ]
  },
  {
   "cell_type": "code",
   "execution_count": 2,
   "metadata": {
    "collapsed": true
   },
   "outputs": [],
   "source": [
    "df = pd.read_csv(\"/home/dk/Downloads/3-1 BITS/Acads/Resources/Information Retrieval/Assignment/our_code/[2]Cleaning_Data/clean_fake_news/clean_data_fake_news.csv\")"
   ]
  },
  {
   "cell_type": "code",
   "execution_count": 20,
   "metadata": {},
   "outputs": [
    {
     "name": "stdout",
     "output_type": "stream",
     "text": [
      "<class 'pandas.core.frame.DataFrame'>\n",
      "Int64Index: 4605 entries, 0 to 12898\n",
      "Data columns (total 21 columns):\n",
      "uuid                  4605 non-null object\n",
      "ord_in_thread         4605 non-null int64\n",
      "author                4605 non-null object\n",
      "published             4605 non-null object\n",
      "title                 4605 non-null object\n",
      "text                  4605 non-null object\n",
      "language              4605 non-null object\n",
      "crawled               4605 non-null object\n",
      "site_url              4605 non-null object\n",
      "country               4605 non-null object\n",
      "domain_rank           4605 non-null float64\n",
      "thread_title          4605 non-null object\n",
      "spam_score            4605 non-null float64\n",
      "main_img_url          4605 non-null object\n",
      "replies_count         4605 non-null int64\n",
      "participants_count    4605 non-null int64\n",
      "likes                 4605 non-null int64\n",
      "comments              4605 non-null int64\n",
      "shares                4605 non-null int64\n",
      "type                  4605 non-null object\n",
      "fakeness              4605 non-null int64\n",
      "dtypes: float64(2), int64(7), object(12)\n",
      "memory usage: 791.5+ KB\n"
     ]
    }
   ],
   "source": [
    "# Double check to see if is clean \n",
    "df.info()"
   ]
  }
 ],
 "metadata": {
  "anaconda-cloud": {},
  "kernelspec": {
   "display_name": "Python 2",
   "language": "python",
   "name": "python2"
  },
  "language_info": {
   "codemirror_mode": {
    "name": "ipython",
    "version": 2
   },
   "file_extension": ".py",
   "mimetype": "text/x-python",
   "name": "python",
   "nbconvert_exporter": "python",
   "pygments_lexer": "ipython2",
   "version": "2.7.14"
  }
 },
 "nbformat": 4,
 "nbformat_minor": 1
}
